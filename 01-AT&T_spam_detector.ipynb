{
 "cells": [
  {
   "attachments": {},
   "cell_type": "markdown",
   "metadata": {},
   "source": [
    "<img src=\"https://full-stack-assets.s3.eu-west-3.amazonaws.com/M08-deep-learning/AT%26T_logo_2016.svg\" alt=\"AT&T LOGO\" width=\"50%\" />\n",
    "\n",
    "# Orange SPAM detector"
   ]
  },
  {
   "attachments": {},
   "cell_type": "markdown",
   "metadata": {},
   "source": [
    "## Company's Description 📇\n",
    "\n",
    "AT&T Inc. est une société holding multinationale américaine de télécommunications dont le siège social est situé à Whitacre Tower dans le centre-ville de Dallas, au Texas. C’est la plus grande entreprise de télécommunications au monde en termes de chiffre d’affaires et le troisième plus grand fournisseur de services de téléphonie mobile aux États-Unis. En 2022, AT&T était classé 13e dans le classement Fortune 500 des plus grandes entreprises américaines, avec un chiffre d’affaires de 168,8 milliards de dollars ! 😮"
   ]
  },
  {
   "attachments": {},
   "cell_type": "markdown",
   "metadata": {},
   "source": [
    "## Project 🚧\n",
    "\n",
    "L’un des principaux problèmes auxquels sont confrontés les utilisateurs d’AT&T est l’exposition constante aux messages SPAM.\n",
    "\n",
    "AT&T a été en mesure de signaler manuellement les messages de spam pendant un certain temps, mais ils recherchent un moyen automatisé de détecter les spams pour protéger leurs utilisateurs."
   ]
  },
  {
   "attachments": {},
   "cell_type": "markdown",
   "metadata": {},
   "source": [
    "## Goals 🎯\n",
    "\n",
    "Votre objectif est de construire un détecteur de spam, capable de signaler automatiquement les spams dès qu’ils arrivent, en se basant uniquement sur le contenu du SMS."
   ]
  },
  {
   "attachments": {},
   "cell_type": "markdown",
   "metadata": {},
   "source": [
    "## Scope of this project 🖼️\n",
    "\n",
    "To start off, AT&T would like you to use the folowing dataset:\n",
    "\n",
    "[Dowload the Dataset](https://full-stack-bigdata-datasets.s3.eu-west-3.amazonaws.com/Deep+Learning/project/spam.csv)"
   ]
  },
  {
   "attachments": {},
   "cell_type": "markdown",
   "metadata": {},
   "source": [
    "## Helpers 🦮\n",
    "\n",
    "Pour vous aider à réaliser ce projet, voici quelques conseils qui devraient vous aider :\n",
    "\n",
    "### Start simple\n",
    "Un bon modèle de deep learing n’a pas forcément besoin d’être super compliqué !\n",
    "\n",
    "### Transfer learning\n",
    "Vous n’avez pas accès à beaucoup de données, peut-être que canaliser la puissance d’un modèle plus sophistiqué entraîné sur des milliards d’observations pourrait vous aider !"
   ]
  },
  {
   "attachments": {},
   "cell_type": "markdown",
   "metadata": {},
   "source": [
    "## Deliverable 📬\n",
    "\n",
    "Pour mener à bien ce projet, votre équipe doit :\n",
    "\n",
    "Écrire un notebook qui exécute le prétraitement et entraîne un ou plusieurs modèles de deep learning afin de prédire le caractère spam ou ham du sms\n",
    "Énoncer clairement la performance obtenue"
   ]
  }
 ],
 "metadata": {
  "kernelspec": {
   "display_name": "Python 3.9.12 ('base')",
   "language": "python",
   "name": "python3"
  },
  "language_info": {
   "codemirror_mode": {
    "name": "ipython",
    "version": 3
   },
   "file_extension": ".py",
   "mimetype": "text/x-python",
   "name": "python",
   "nbconvert_exporter": "python",
   "pygments_lexer": "ipython3",
   "version": "3.9.12"
  },
  "vscode": {
   "interpreter": {
    "hash": "16196ea7eff63910081d4e10ae1bdb1eb18fd83cb470bb8efbb9fa6b0c724af5"
   }
  }
 },
 "nbformat": 4,
 "nbformat_minor": 2
}
