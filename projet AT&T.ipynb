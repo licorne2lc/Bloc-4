{
  "cells": [
    {
      "cell_type": "markdown",
      "metadata": {
        "id": "GlZE3Ntm8gv4"
      },
      "source": [
        "# Import &  Data exploration"
      ]
    },
    {
      "cell_type": "markdown",
      "metadata": {},
      "source": [
        "## import de librairie "
      ]
    },
    {
      "cell_type": "code",
      "execution_count": 1,
      "metadata": {
        "id": "RMBnbVdZygEr"
      },
      "outputs": [
        {
          "name": "stdout",
          "output_type": "stream",
          "text": [
            "Using TensorFlow backend\n"
          ]
        }
      ],
      "source": [
        "import tensorflow as tf  \n",
        "\n",
        "import pathlib \n",
        "import numpy as np\n",
        "import pandas as pd \n",
        "import random\n",
        "from datetime import datetime\n",
        "import time\n",
        "\n",
        "import os\n",
        "import io\n",
        "import warnings\n",
        "\n",
        "warnings.filterwarnings('ignore')\n",
        "\n",
        "from sklearn.model_selection import train_test_split\n",
        "from sklearn.utils.class_weight import compute_class_weight\n",
        "\n",
        "from sklearn.linear_model import LogisticRegression\n",
        "from sklearn.feature_extraction.text import TfidfVectorizer\n",
        "from sklearn.metrics import ( accuracy_score, precision_score, recall_score, f1_score,confusion_matrix,classification_report,ConfusionMatrixDisplay)\n",
        "\n",
        "from tensorflow import keras\n",
        "from keras import layers, Model, Input\n",
        "from tensorflow.keras import Sequential\n",
        "from tensorflow.keras.callbacks import EarlyStopping, ModelCheckpoint\n",
        "from tensorflow.keras.layers import Embedding, SimpleRNN, Dense, GRU\n",
        "from tensorflow.keras.layers import Conv1D, GlobalMaxPooling1D, Dropout\n",
        "\n",
        "\n",
        "import matplotlib.pyplot as plt\n",
        "import seaborn as sns\n",
        "import plotly.express as px\n",
        "import plotly.graph_objects as go\n",
        "from plotly.subplots import make_subplots\n",
        "\n",
        "\n",
        "import tensorflow.keras as k\n",
        "import tensorflow_hub as hub\n",
        "\n",
        "import keras_nlp\n",
        "\n",
        "\n",
        "\n"
      ]
    },
    {
      "cell_type": "markdown",
      "metadata": {},
      "source": [
        "## import DATA"
      ]
    },
    {
      "cell_type": "code",
      "execution_count": 2,
      "metadata": {
        "colab": {
          "base_uri": "https://localhost:8080/",
          "height": 426
        },
        "id": "Irik4DyW0acS",
        "outputId": "de9e2a19-203f-40c1-99ef-e4fa34f45edf"
      },
      "outputs": [
        {
          "data": {
            "text/html": [
              "<div>\n",
              "<style scoped>\n",
              "    .dataframe tbody tr th:only-of-type {\n",
              "        vertical-align: middle;\n",
              "    }\n",
              "\n",
              "    .dataframe tbody tr th {\n",
              "        vertical-align: top;\n",
              "    }\n",
              "\n",
              "    .dataframe thead th {\n",
              "        text-align: right;\n",
              "    }\n",
              "</style>\n",
              "<table border=\"1\" class=\"dataframe\">\n",
              "  <thead>\n",
              "    <tr style=\"text-align: right;\">\n",
              "      <th></th>\n",
              "      <th>v1</th>\n",
              "      <th>v2</th>\n",
              "      <th>Unnamed: 2</th>\n",
              "      <th>Unnamed: 3</th>\n",
              "      <th>Unnamed: 4</th>\n",
              "    </tr>\n",
              "  </thead>\n",
              "  <tbody>\n",
              "    <tr>\n",
              "      <th>0</th>\n",
              "      <td>ham</td>\n",
              "      <td>Go until jurong point, crazy.. Available only ...</td>\n",
              "      <td>NaN</td>\n",
              "      <td>NaN</td>\n",
              "      <td>NaN</td>\n",
              "    </tr>\n",
              "    <tr>\n",
              "      <th>1</th>\n",
              "      <td>ham</td>\n",
              "      <td>Ok lar... Joking wif u oni...</td>\n",
              "      <td>NaN</td>\n",
              "      <td>NaN</td>\n",
              "      <td>NaN</td>\n",
              "    </tr>\n",
              "    <tr>\n",
              "      <th>2</th>\n",
              "      <td>spam</td>\n",
              "      <td>Free entry in 2 a wkly comp to win FA Cup fina...</td>\n",
              "      <td>NaN</td>\n",
              "      <td>NaN</td>\n",
              "      <td>NaN</td>\n",
              "    </tr>\n",
              "    <tr>\n",
              "      <th>3</th>\n",
              "      <td>ham</td>\n",
              "      <td>U dun say so early hor... U c already then say...</td>\n",
              "      <td>NaN</td>\n",
              "      <td>NaN</td>\n",
              "      <td>NaN</td>\n",
              "    </tr>\n",
              "    <tr>\n",
              "      <th>4</th>\n",
              "      <td>ham</td>\n",
              "      <td>Nah I don't think he goes to usf, he lives aro...</td>\n",
              "      <td>NaN</td>\n",
              "      <td>NaN</td>\n",
              "      <td>NaN</td>\n",
              "    </tr>\n",
              "  </tbody>\n",
              "</table>\n",
              "</div>"
            ],
            "text/plain": [
              "     v1                                                 v2 Unnamed: 2  \\\n",
              "0   ham  Go until jurong point, crazy.. Available only ...        NaN   \n",
              "1   ham                      Ok lar... Joking wif u oni...        NaN   \n",
              "2  spam  Free entry in 2 a wkly comp to win FA Cup fina...        NaN   \n",
              "3   ham  U dun say so early hor... U c already then say...        NaN   \n",
              "4   ham  Nah I don't think he goes to usf, he lives aro...        NaN   \n",
              "\n",
              "  Unnamed: 3 Unnamed: 4  \n",
              "0        NaN        NaN  \n",
              "1        NaN        NaN  \n",
              "2        NaN        NaN  \n",
              "3        NaN        NaN  \n",
              "4        NaN        NaN  "
            ]
          },
          "execution_count": 2,
          "metadata": {},
          "output_type": "execute_result"
        }
      ],
      "source": [
        "# Import dataset with Pandas \n",
        "dataset = pd.read_csv(\"spam.csv\",encoding='latin-1')\n",
        "dataset.head()"
      ]
    },
    {
      "cell_type": "code",
      "execution_count": 3,
      "metadata": {},
      "outputs": [
        {
          "data": {
            "text/html": [
              "<div>\n",
              "<style scoped>\n",
              "    .dataframe tbody tr th:only-of-type {\n",
              "        vertical-align: middle;\n",
              "    }\n",
              "\n",
              "    .dataframe tbody tr th {\n",
              "        vertical-align: top;\n",
              "    }\n",
              "\n",
              "    .dataframe thead th {\n",
              "        text-align: right;\n",
              "    }\n",
              "</style>\n",
              "<table border=\"1\" class=\"dataframe\">\n",
              "  <thead>\n",
              "    <tr style=\"text-align: right;\">\n",
              "      <th></th>\n",
              "      <th>v1</th>\n",
              "      <th>v2</th>\n",
              "      <th>Unnamed: 2</th>\n",
              "      <th>Unnamed: 3</th>\n",
              "      <th>Unnamed: 4</th>\n",
              "    </tr>\n",
              "  </thead>\n",
              "  <tbody>\n",
              "    <tr>\n",
              "      <th>count</th>\n",
              "      <td>5572</td>\n",
              "      <td>5572</td>\n",
              "      <td>50</td>\n",
              "      <td>12</td>\n",
              "      <td>6</td>\n",
              "    </tr>\n",
              "    <tr>\n",
              "      <th>unique</th>\n",
              "      <td>2</td>\n",
              "      <td>5169</td>\n",
              "      <td>43</td>\n",
              "      <td>10</td>\n",
              "      <td>5</td>\n",
              "    </tr>\n",
              "    <tr>\n",
              "      <th>top</th>\n",
              "      <td>ham</td>\n",
              "      <td>Sorry, I'll call later</td>\n",
              "      <td>bt not his girlfrnd... G o o d n i g h t . . .@\"</td>\n",
              "      <td>MK17 92H. 450Ppw 16\"</td>\n",
              "      <td>GNT:-)\"</td>\n",
              "    </tr>\n",
              "    <tr>\n",
              "      <th>freq</th>\n",
              "      <td>4825</td>\n",
              "      <td>30</td>\n",
              "      <td>3</td>\n",
              "      <td>2</td>\n",
              "      <td>2</td>\n",
              "    </tr>\n",
              "  </tbody>\n",
              "</table>\n",
              "</div>"
            ],
            "text/plain": [
              "          v1                      v2  \\\n",
              "count   5572                    5572   \n",
              "unique     2                    5169   \n",
              "top      ham  Sorry, I'll call later   \n",
              "freq    4825                      30   \n",
              "\n",
              "                                               Unnamed: 2  \\\n",
              "count                                                  50   \n",
              "unique                                                 43   \n",
              "top      bt not his girlfrnd... G o o d n i g h t . . .@\"   \n",
              "freq                                                    3   \n",
              "\n",
              "                   Unnamed: 3 Unnamed: 4  \n",
              "count                      12          6  \n",
              "unique                     10          5  \n",
              "top      MK17 92H. 450Ppw 16\"    GNT:-)\"  \n",
              "freq                        2          2  "
            ]
          },
          "execution_count": 3,
          "metadata": {},
          "output_type": "execute_result"
        }
      ],
      "source": [
        "dataset.describe(include='all')"
      ]
    },
    {
      "cell_type": "code",
      "execution_count": 4,
      "metadata": {},
      "outputs": [
        {
          "name": "stdout",
          "output_type": "stream",
          "text": [
            "Percentage of missing values: \n"
          ]
        },
        {
          "data": {
            "text/plain": [
              "v1             0.000000\n",
              "v2             0.000000\n",
              "Unnamed: 2    99.102656\n",
              "Unnamed: 3    99.784637\n",
              "Unnamed: 4    99.892319\n",
              "dtype: float64"
            ]
          },
          "metadata": {},
          "output_type": "display_data"
        }
      ],
      "source": [
        "# traitement des valeurs manquantes \n",
        "print(\"Percentage of missing values: \")\n",
        "display(100*dataset.isnull().sum()/dataset.shape[0])"
      ]
    },
    {
      "cell_type": "code",
      "execution_count": 5,
      "metadata": {
        "colab": {
          "base_uri": "https://localhost:8080/",
          "height": 357
        },
        "id": "lXLZFpg50swK",
        "outputId": "142e5043-436a-49c2-9176-06aaead0a721"
      },
      "outputs": [
        {
          "data": {
            "text/html": [
              "<div>\n",
              "<style scoped>\n",
              "    .dataframe tbody tr th:only-of-type {\n",
              "        vertical-align: middle;\n",
              "    }\n",
              "\n",
              "    .dataframe tbody tr th {\n",
              "        vertical-align: top;\n",
              "    }\n",
              "\n",
              "    .dataframe thead th {\n",
              "        text-align: right;\n",
              "    }\n",
              "</style>\n",
              "<table border=\"1\" class=\"dataframe\">\n",
              "  <thead>\n",
              "    <tr style=\"text-align: right;\">\n",
              "      <th></th>\n",
              "      <th>spam</th>\n",
              "      <th>v2</th>\n",
              "    </tr>\n",
              "  </thead>\n",
              "  <tbody>\n",
              "    <tr>\n",
              "      <th>0</th>\n",
              "      <td>0</td>\n",
              "      <td>Go until jurong point, crazy.. Available only ...</td>\n",
              "    </tr>\n",
              "    <tr>\n",
              "      <th>1</th>\n",
              "      <td>0</td>\n",
              "      <td>Ok lar... Joking wif u oni...</td>\n",
              "    </tr>\n",
              "    <tr>\n",
              "      <th>2</th>\n",
              "      <td>1</td>\n",
              "      <td>Free entry in 2 a wkly comp to win FA Cup fina...</td>\n",
              "    </tr>\n",
              "    <tr>\n",
              "      <th>3</th>\n",
              "      <td>0</td>\n",
              "      <td>U dun say so early hor... U c already then say...</td>\n",
              "    </tr>\n",
              "    <tr>\n",
              "      <th>4</th>\n",
              "      <td>0</td>\n",
              "      <td>Nah I don't think he goes to usf, he lives aro...</td>\n",
              "    </tr>\n",
              "  </tbody>\n",
              "</table>\n",
              "</div>"
            ],
            "text/plain": [
              "   spam                                                 v2\n",
              "0     0  Go until jurong point, crazy.. Available only ...\n",
              "1     0                      Ok lar... Joking wif u oni...\n",
              "2     1  Free entry in 2 a wkly comp to win FA Cup fina...\n",
              "3     0  U dun say so early hor... U c already then say...\n",
              "4     0  Nah I don't think he goes to usf, he lives aro..."
            ]
          },
          "execution_count": 5,
          "metadata": {},
          "output_type": "execute_result"
        }
      ],
      "source": [
        "dataset = dataset[['v1','v2']]\n",
        "\n",
        "# Mapping de la colonne 'v1' où 'ham' devient 0 et 'spam' devient 1\n",
        "dataset['v1'] = dataset['v1'].map({'ham': 0, 'spam': 1})\n",
        "dataset = dataset.rename(columns={'v1': 'spam'})\n",
        "\n",
        "dataset.head()\n"
      ]
    },
    {
      "cell_type": "markdown",
      "metadata": {
        "id": "X8Duro5f8i7U"
      },
      "source": [
        "# Preprocessing\n",
        "\n"
      ]
    },
    {
      "cell_type": "markdown",
      "metadata": {
        "id": "VBnV02P_HYHB"
      },
      "source": [
        "2. import et Load `en_core_news_md` --> variable `nlp`"
      ]
    },
    {
      "cell_type": "code",
      "execution_count": 6,
      "metadata": {},
      "outputs": [
        {
          "name": "stdout",
          "output_type": "stream",
          "text": [
            "Collecting en-core-web-md==3.8.0\n",
            "  Downloading https://github.com/explosion/spacy-models/releases/download/en_core_web_md-3.8.0/en_core_web_md-3.8.0-py3-none-any.whl (33.5 MB)\n",
            "     ---------------------------------------- 0.0/33.5 MB ? eta -:--:--\n",
            "     ------------------ ------------------- 16.5/33.5 MB 103.5 MB/s eta 0:00:01\n",
            "     --------------------------------------  33.3/33.5 MB 88.1 MB/s eta 0:00:01\n",
            "     --------------------------------------- 33.5/33.5 MB 78.7 MB/s eta 0:00:00\n",
            "\u001b[38;5;2m✔ Download and installation successful\u001b[0m\n",
            "You can now load the package via spacy.load('en_core_web_md')\n"
          ]
        }
      ],
      "source": [
        "!python -m spacy download en_core_web_md"
      ]
    },
    {
      "cell_type": "code",
      "execution_count": 7,
      "metadata": {},
      "outputs": [],
      "source": [
        "import en_core_web_md\n",
        "nlp = en_core_web_md.load()\n"
      ]
    },
    {
      "cell_type": "markdown",
      "metadata": {
        "id": "SQL-RX0KHb-F"
      },
      "source": [
        "3. Import des \"english STOP_WORDS\""
      ]
    },
    {
      "cell_type": "code",
      "execution_count": 8,
      "metadata": {
        "id": "TZNd26-z1xIT"
      },
      "outputs": [],
      "source": [
        "# Import Stop words \n",
        "from spacy.lang.en.stop_words import STOP_WORDS"
      ]
    },
    {
      "cell_type": "code",
      "execution_count": 9,
      "metadata": {
        "colab": {
          "base_uri": "https://localhost:8080/",
          "height": 537
        },
        "id": "4JE3FrlIq_a8",
        "outputId": "adc8db1a-0838-42df-ba50-ffdc4aa90cf5"
      },
      "outputs": [
        {
          "data": {
            "text/html": [
              "<div>\n",
              "<style scoped>\n",
              "    .dataframe tbody tr th:only-of-type {\n",
              "        vertical-align: middle;\n",
              "    }\n",
              "\n",
              "    .dataframe tbody tr th {\n",
              "        vertical-align: top;\n",
              "    }\n",
              "\n",
              "    .dataframe thead th {\n",
              "        text-align: right;\n",
              "    }\n",
              "</style>\n",
              "<table border=\"1\" class=\"dataframe\">\n",
              "  <thead>\n",
              "    <tr style=\"text-align: right;\">\n",
              "      <th></th>\n",
              "      <th>spam</th>\n",
              "      <th>v2</th>\n",
              "      <th>v2clean</th>\n",
              "      <th>v2_clean</th>\n",
              "      <th>spam_clean</th>\n",
              "    </tr>\n",
              "  </thead>\n",
              "  <tbody>\n",
              "    <tr>\n",
              "      <th>0</th>\n",
              "      <td>0</td>\n",
              "      <td>Go until jurong point, crazy.. Available only ...</td>\n",
              "      <td>Go until jurong point crazy Available only in ...</td>\n",
              "      <td>go until jurong point crazy available only in ...</td>\n",
              "      <td>jurong point crazy available bugis n great wor...</td>\n",
              "    </tr>\n",
              "    <tr>\n",
              "      <th>1</th>\n",
              "      <td>0</td>\n",
              "      <td>Ok lar... Joking wif u oni...</td>\n",
              "      <td>Ok lar Joking wif u oni</td>\n",
              "      <td>ok lar joking wif u oni</td>\n",
              "      <td>ok lar joke wif u oni</td>\n",
              "    </tr>\n",
              "    <tr>\n",
              "      <th>2</th>\n",
              "      <td>1</td>\n",
              "      <td>Free entry in 2 a wkly comp to win FA Cup fina...</td>\n",
              "      <td>Free entry in 2 a wkly comp to win FA Cup fina...</td>\n",
              "      <td>free entry in 2 a wkly comp to win fa cup fina...</td>\n",
              "      <td>free entry 2 wkly comp win fa cup final tkts 2...</td>\n",
              "    </tr>\n",
              "    <tr>\n",
              "      <th>3</th>\n",
              "      <td>0</td>\n",
              "      <td>U dun say so early hor... U c already then say...</td>\n",
              "      <td>U dun say so early hor U c already then say</td>\n",
              "      <td>u dun say so early hor u c already then say</td>\n",
              "      <td>u dun early hor u c</td>\n",
              "    </tr>\n",
              "    <tr>\n",
              "      <th>4</th>\n",
              "      <td>0</td>\n",
              "      <td>Nah I don't think he goes to usf, he lives aro...</td>\n",
              "      <td>Nah I don't think he goes to usf he lives arou...</td>\n",
              "      <td>nah i don't think he goes to usf he lives arou...</td>\n",
              "      <td>nah think usf live</td>\n",
              "    </tr>\n",
              "  </tbody>\n",
              "</table>\n",
              "</div>"
            ],
            "text/plain": [
              "   spam                                                 v2  \\\n",
              "0     0  Go until jurong point, crazy.. Available only ...   \n",
              "1     0                      Ok lar... Joking wif u oni...   \n",
              "2     1  Free entry in 2 a wkly comp to win FA Cup fina...   \n",
              "3     0  U dun say so early hor... U c already then say...   \n",
              "4     0  Nah I don't think he goes to usf, he lives aro...   \n",
              "\n",
              "                                             v2clean  \\\n",
              "0  Go until jurong point crazy Available only in ...   \n",
              "1                            Ok lar Joking wif u oni   \n",
              "2  Free entry in 2 a wkly comp to win FA Cup fina...   \n",
              "3        U dun say so early hor U c already then say   \n",
              "4  Nah I don't think he goes to usf he lives arou...   \n",
              "\n",
              "                                            v2_clean  \\\n",
              "0  go until jurong point crazy available only in ...   \n",
              "1                            ok lar joking wif u oni   \n",
              "2  free entry in 2 a wkly comp to win fa cup fina...   \n",
              "3        u dun say so early hor u c already then say   \n",
              "4  nah i don't think he goes to usf he lives arou...   \n",
              "\n",
              "                                          spam_clean  \n",
              "0  jurong point crazy available bugis n great wor...  \n",
              "1                              ok lar joke wif u oni  \n",
              "2  free entry 2 wkly comp win fa cup final tkts 2...  \n",
              "3                                u dun early hor u c  \n",
              "4                                 nah think usf live  "
            ]
          },
          "execution_count": 9,
          "metadata": {},
          "output_type": "execute_result"
        }
      ],
      "source": [
        "# Traitement des carcteres speciaux (on ne garde que les caracteres alphanumerique et espace)\n",
        "dataset[\"v2clean\"] = dataset[\"v2\"].apply(lambda x:''.join(ch for ch in x if ch.isalnum() or ch==\" \" or ch==\"'\"))\n",
        "\n",
        "# Traitement MAJUSCULE / MINUSCULE \n",
        "dataset[\"v2_clean\"] = dataset[\"v2clean\"].apply(lambda x: x.replace(\" +\",\" \").lower().strip())\n",
        "\n",
        "# Lemmatization \n",
        "dataset[\"spam_clean\"] = dataset[\"v2_clean\"].apply(lambda x: \" \".join([token.lemma_ for token in nlp(x) if (token.lemma_ not in STOP_WORDS) and (token.text not in STOP_WORDS)]))\n",
        "\n",
        "dataset.head()"
      ]
    },
    {
      "cell_type": "markdown",
      "metadata": {},
      "source": [
        "# TF/IDF +regression logistique"
      ]
    },
    {
      "cell_type": "markdown",
      "metadata": {},
      "source": [
        "### 1. vectorisation dataset"
      ]
    },
    {
      "cell_type": "code",
      "execution_count": 10,
      "metadata": {},
      "outputs": [
        {
          "name": "stdout",
          "output_type": "stream",
          "text": [
            " la taille du corpus est de : 5572 docs composé de 8094 colonnes.\n"
          ]
        },
        {
          "data": {
            "text/html": [
              "<div>\n",
              "<style scoped>\n",
              "    .dataframe tbody tr th:only-of-type {\n",
              "        vertical-align: middle;\n",
              "    }\n",
              "\n",
              "    .dataframe tbody tr th {\n",
              "        vertical-align: top;\n",
              "    }\n",
              "\n",
              "    .dataframe thead th {\n",
              "        text-align: right;\n",
              "    }\n",
              "</style>\n",
              "<table border=\"1\" class=\"dataframe\">\n",
              "  <thead>\n",
              "    <tr style=\"text-align: right;\">\n",
              "      <th></th>\n",
              "      <th>008704050406</th>\n",
              "      <th>0089my</th>\n",
              "      <th>0121</th>\n",
              "      <th>01223585236</th>\n",
              "      <th>01223585334</th>\n",
              "      <th>0125698789</th>\n",
              "      <th>02</th>\n",
              "      <th>020603</th>\n",
              "      <th>0207</th>\n",
              "      <th>02070836089</th>\n",
              "      <th>...</th>\n",
              "      <th>åð</th>\n",
              "      <th>åòharry</th>\n",
              "      <th>åòit</th>\n",
              "      <th>åômorrow</th>\n",
              "      <th>åôrent</th>\n",
              "      <th>ìï</th>\n",
              "      <th>ûthank</th>\n",
              "      <th>ûï</th>\n",
              "      <th>ûïharry</th>\n",
              "      <th>ûò</th>\n",
              "    </tr>\n",
              "  </thead>\n",
              "  <tbody>\n",
              "    <tr>\n",
              "      <th>doc_1</th>\n",
              "      <td>0.0</td>\n",
              "      <td>0.0</td>\n",
              "      <td>0.0</td>\n",
              "      <td>0.0</td>\n",
              "      <td>0.0</td>\n",
              "      <td>0.0</td>\n",
              "      <td>0.0</td>\n",
              "      <td>0.0</td>\n",
              "      <td>0.0</td>\n",
              "      <td>0.0</td>\n",
              "      <td>...</td>\n",
              "      <td>0.0</td>\n",
              "      <td>0.0</td>\n",
              "      <td>0.0</td>\n",
              "      <td>0.0</td>\n",
              "      <td>0.0</td>\n",
              "      <td>0.0</td>\n",
              "      <td>0.0</td>\n",
              "      <td>0.0</td>\n",
              "      <td>0.0</td>\n",
              "      <td>0.0</td>\n",
              "    </tr>\n",
              "    <tr>\n",
              "      <th>doc_2</th>\n",
              "      <td>0.0</td>\n",
              "      <td>0.0</td>\n",
              "      <td>0.0</td>\n",
              "      <td>0.0</td>\n",
              "      <td>0.0</td>\n",
              "      <td>0.0</td>\n",
              "      <td>0.0</td>\n",
              "      <td>0.0</td>\n",
              "      <td>0.0</td>\n",
              "      <td>0.0</td>\n",
              "      <td>...</td>\n",
              "      <td>0.0</td>\n",
              "      <td>0.0</td>\n",
              "      <td>0.0</td>\n",
              "      <td>0.0</td>\n",
              "      <td>0.0</td>\n",
              "      <td>0.0</td>\n",
              "      <td>0.0</td>\n",
              "      <td>0.0</td>\n",
              "      <td>0.0</td>\n",
              "      <td>0.0</td>\n",
              "    </tr>\n",
              "    <tr>\n",
              "      <th>doc_3</th>\n",
              "      <td>0.0</td>\n",
              "      <td>0.0</td>\n",
              "      <td>0.0</td>\n",
              "      <td>0.0</td>\n",
              "      <td>0.0</td>\n",
              "      <td>0.0</td>\n",
              "      <td>0.0</td>\n",
              "      <td>0.0</td>\n",
              "      <td>0.0</td>\n",
              "      <td>0.0</td>\n",
              "      <td>...</td>\n",
              "      <td>0.0</td>\n",
              "      <td>0.0</td>\n",
              "      <td>0.0</td>\n",
              "      <td>0.0</td>\n",
              "      <td>0.0</td>\n",
              "      <td>0.0</td>\n",
              "      <td>0.0</td>\n",
              "      <td>0.0</td>\n",
              "      <td>0.0</td>\n",
              "      <td>0.0</td>\n",
              "    </tr>\n",
              "    <tr>\n",
              "      <th>doc_4</th>\n",
              "      <td>0.0</td>\n",
              "      <td>0.0</td>\n",
              "      <td>0.0</td>\n",
              "      <td>0.0</td>\n",
              "      <td>0.0</td>\n",
              "      <td>0.0</td>\n",
              "      <td>0.0</td>\n",
              "      <td>0.0</td>\n",
              "      <td>0.0</td>\n",
              "      <td>0.0</td>\n",
              "      <td>...</td>\n",
              "      <td>0.0</td>\n",
              "      <td>0.0</td>\n",
              "      <td>0.0</td>\n",
              "      <td>0.0</td>\n",
              "      <td>0.0</td>\n",
              "      <td>0.0</td>\n",
              "      <td>0.0</td>\n",
              "      <td>0.0</td>\n",
              "      <td>0.0</td>\n",
              "      <td>0.0</td>\n",
              "    </tr>\n",
              "    <tr>\n",
              "      <th>doc_5</th>\n",
              "      <td>0.0</td>\n",
              "      <td>0.0</td>\n",
              "      <td>0.0</td>\n",
              "      <td>0.0</td>\n",
              "      <td>0.0</td>\n",
              "      <td>0.0</td>\n",
              "      <td>0.0</td>\n",
              "      <td>0.0</td>\n",
              "      <td>0.0</td>\n",
              "      <td>0.0</td>\n",
              "      <td>...</td>\n",
              "      <td>0.0</td>\n",
              "      <td>0.0</td>\n",
              "      <td>0.0</td>\n",
              "      <td>0.0</td>\n",
              "      <td>0.0</td>\n",
              "      <td>0.0</td>\n",
              "      <td>0.0</td>\n",
              "      <td>0.0</td>\n",
              "      <td>0.0</td>\n",
              "      <td>0.0</td>\n",
              "    </tr>\n",
              "    <tr>\n",
              "      <th>...</th>\n",
              "      <td>...</td>\n",
              "      <td>...</td>\n",
              "      <td>...</td>\n",
              "      <td>...</td>\n",
              "      <td>...</td>\n",
              "      <td>...</td>\n",
              "      <td>...</td>\n",
              "      <td>...</td>\n",
              "      <td>...</td>\n",
              "      <td>...</td>\n",
              "      <td>...</td>\n",
              "      <td>...</td>\n",
              "      <td>...</td>\n",
              "      <td>...</td>\n",
              "      <td>...</td>\n",
              "      <td>...</td>\n",
              "      <td>...</td>\n",
              "      <td>...</td>\n",
              "      <td>...</td>\n",
              "      <td>...</td>\n",
              "      <td>...</td>\n",
              "    </tr>\n",
              "    <tr>\n",
              "      <th>doc_5568</th>\n",
              "      <td>0.0</td>\n",
              "      <td>0.0</td>\n",
              "      <td>0.0</td>\n",
              "      <td>0.0</td>\n",
              "      <td>0.0</td>\n",
              "      <td>0.0</td>\n",
              "      <td>0.0</td>\n",
              "      <td>0.0</td>\n",
              "      <td>0.0</td>\n",
              "      <td>0.0</td>\n",
              "      <td>...</td>\n",
              "      <td>0.0</td>\n",
              "      <td>0.0</td>\n",
              "      <td>0.0</td>\n",
              "      <td>0.0</td>\n",
              "      <td>0.0</td>\n",
              "      <td>0.0</td>\n",
              "      <td>0.0</td>\n",
              "      <td>0.0</td>\n",
              "      <td>0.0</td>\n",
              "      <td>0.0</td>\n",
              "    </tr>\n",
              "    <tr>\n",
              "      <th>doc_5569</th>\n",
              "      <td>0.0</td>\n",
              "      <td>0.0</td>\n",
              "      <td>0.0</td>\n",
              "      <td>0.0</td>\n",
              "      <td>0.0</td>\n",
              "      <td>0.0</td>\n",
              "      <td>0.0</td>\n",
              "      <td>0.0</td>\n",
              "      <td>0.0</td>\n",
              "      <td>0.0</td>\n",
              "      <td>...</td>\n",
              "      <td>0.0</td>\n",
              "      <td>0.0</td>\n",
              "      <td>0.0</td>\n",
              "      <td>0.0</td>\n",
              "      <td>0.0</td>\n",
              "      <td>0.0</td>\n",
              "      <td>0.0</td>\n",
              "      <td>0.0</td>\n",
              "      <td>0.0</td>\n",
              "      <td>0.0</td>\n",
              "    </tr>\n",
              "    <tr>\n",
              "      <th>doc_5570</th>\n",
              "      <td>0.0</td>\n",
              "      <td>0.0</td>\n",
              "      <td>0.0</td>\n",
              "      <td>0.0</td>\n",
              "      <td>0.0</td>\n",
              "      <td>0.0</td>\n",
              "      <td>0.0</td>\n",
              "      <td>0.0</td>\n",
              "      <td>0.0</td>\n",
              "      <td>0.0</td>\n",
              "      <td>...</td>\n",
              "      <td>0.0</td>\n",
              "      <td>0.0</td>\n",
              "      <td>0.0</td>\n",
              "      <td>0.0</td>\n",
              "      <td>0.0</td>\n",
              "      <td>0.0</td>\n",
              "      <td>0.0</td>\n",
              "      <td>0.0</td>\n",
              "      <td>0.0</td>\n",
              "      <td>0.0</td>\n",
              "    </tr>\n",
              "    <tr>\n",
              "      <th>doc_5571</th>\n",
              "      <td>0.0</td>\n",
              "      <td>0.0</td>\n",
              "      <td>0.0</td>\n",
              "      <td>0.0</td>\n",
              "      <td>0.0</td>\n",
              "      <td>0.0</td>\n",
              "      <td>0.0</td>\n",
              "      <td>0.0</td>\n",
              "      <td>0.0</td>\n",
              "      <td>0.0</td>\n",
              "      <td>...</td>\n",
              "      <td>0.0</td>\n",
              "      <td>0.0</td>\n",
              "      <td>0.0</td>\n",
              "      <td>0.0</td>\n",
              "      <td>0.0</td>\n",
              "      <td>0.0</td>\n",
              "      <td>0.0</td>\n",
              "      <td>0.0</td>\n",
              "      <td>0.0</td>\n",
              "      <td>0.0</td>\n",
              "    </tr>\n",
              "    <tr>\n",
              "      <th>doc_5572</th>\n",
              "      <td>0.0</td>\n",
              "      <td>0.0</td>\n",
              "      <td>0.0</td>\n",
              "      <td>0.0</td>\n",
              "      <td>0.0</td>\n",
              "      <td>0.0</td>\n",
              "      <td>0.0</td>\n",
              "      <td>0.0</td>\n",
              "      <td>0.0</td>\n",
              "      <td>0.0</td>\n",
              "      <td>...</td>\n",
              "      <td>0.0</td>\n",
              "      <td>0.0</td>\n",
              "      <td>0.0</td>\n",
              "      <td>0.0</td>\n",
              "      <td>0.0</td>\n",
              "      <td>0.0</td>\n",
              "      <td>0.0</td>\n",
              "      <td>0.0</td>\n",
              "      <td>0.0</td>\n",
              "      <td>0.0</td>\n",
              "    </tr>\n",
              "  </tbody>\n",
              "</table>\n",
              "<p>5572 rows × 8094 columns</p>\n",
              "</div>"
            ],
            "text/plain": [
              "          008704050406  0089my  0121  01223585236  01223585334  0125698789  \\\n",
              "doc_1              0.0     0.0   0.0          0.0          0.0         0.0   \n",
              "doc_2              0.0     0.0   0.0          0.0          0.0         0.0   \n",
              "doc_3              0.0     0.0   0.0          0.0          0.0         0.0   \n",
              "doc_4              0.0     0.0   0.0          0.0          0.0         0.0   \n",
              "doc_5              0.0     0.0   0.0          0.0          0.0         0.0   \n",
              "...                ...     ...   ...          ...          ...         ...   \n",
              "doc_5568           0.0     0.0   0.0          0.0          0.0         0.0   \n",
              "doc_5569           0.0     0.0   0.0          0.0          0.0         0.0   \n",
              "doc_5570           0.0     0.0   0.0          0.0          0.0         0.0   \n",
              "doc_5571           0.0     0.0   0.0          0.0          0.0         0.0   \n",
              "doc_5572           0.0     0.0   0.0          0.0          0.0         0.0   \n",
              "\n",
              "           02  020603  0207  02070836089  ...   åð  åòharry  åòit  åômorrow  \\\n",
              "doc_1     0.0     0.0   0.0          0.0  ...  0.0      0.0   0.0       0.0   \n",
              "doc_2     0.0     0.0   0.0          0.0  ...  0.0      0.0   0.0       0.0   \n",
              "doc_3     0.0     0.0   0.0          0.0  ...  0.0      0.0   0.0       0.0   \n",
              "doc_4     0.0     0.0   0.0          0.0  ...  0.0      0.0   0.0       0.0   \n",
              "doc_5     0.0     0.0   0.0          0.0  ...  0.0      0.0   0.0       0.0   \n",
              "...       ...     ...   ...          ...  ...  ...      ...   ...       ...   \n",
              "doc_5568  0.0     0.0   0.0          0.0  ...  0.0      0.0   0.0       0.0   \n",
              "doc_5569  0.0     0.0   0.0          0.0  ...  0.0      0.0   0.0       0.0   \n",
              "doc_5570  0.0     0.0   0.0          0.0  ...  0.0      0.0   0.0       0.0   \n",
              "doc_5571  0.0     0.0   0.0          0.0  ...  0.0      0.0   0.0       0.0   \n",
              "doc_5572  0.0     0.0   0.0          0.0  ...  0.0      0.0   0.0       0.0   \n",
              "\n",
              "          åôrent   ìï  ûthank   ûï  ûïharry   ûò  \n",
              "doc_1        0.0  0.0     0.0  0.0      0.0  0.0  \n",
              "doc_2        0.0  0.0     0.0  0.0      0.0  0.0  \n",
              "doc_3        0.0  0.0     0.0  0.0      0.0  0.0  \n",
              "doc_4        0.0  0.0     0.0  0.0      0.0  0.0  \n",
              "doc_5        0.0  0.0     0.0  0.0      0.0  0.0  \n",
              "...          ...  ...     ...  ...      ...  ...  \n",
              "doc_5568     0.0  0.0     0.0  0.0      0.0  0.0  \n",
              "doc_5569     0.0  0.0     0.0  0.0      0.0  0.0  \n",
              "doc_5570     0.0  0.0     0.0  0.0      0.0  0.0  \n",
              "doc_5571     0.0  0.0     0.0  0.0      0.0  0.0  \n",
              "doc_5572     0.0  0.0     0.0  0.0      0.0  0.0  \n",
              "\n",
              "[5572 rows x 8094 columns]"
            ]
          },
          "execution_count": 10,
          "metadata": {},
          "output_type": "execute_result"
        }
      ],
      "source": [
        "# TF-IDF vector\n",
        "vectorizer = TfidfVectorizer(stop_words='english')\n",
        "X = vectorizer.fit_transform(dataset['spam_clean'])\n",
        "\n",
        "# X is a generator. We can transform that as an array\n",
        "dense = X.toarray()\n",
        "dense\n",
        "\n",
        "# Get tokens for all documents\n",
        "vectorizer.vocabulary_\n",
        "\n",
        "tf_idf = pd.DataFrame(dense, \n",
        "             columns=vectorizer.get_feature_names_out(), \n",
        "             index=[f\"doc_{x}\" for x in range(1, dense.shape[0] + 1)])\n",
        "\n",
        "print (f\" la taille du corpus est de : {tf_idf.shape[0]} docs composé de {tf_idf.shape[1]} colonnes.\")\n",
        "tf_idf"
      ]
    },
    {
      "cell_type": "markdown",
      "metadata": {},
      "source": [
        "### 2. ENTRAINEMENT  MODEL -->  TF/IDF + regression logistic"
      ]
    },
    {
      "cell_type": "code",
      "execution_count": 11,
      "metadata": {},
      "outputs": [],
      "source": [
        "# Récupérer les features et labels\n",
        "X = tf_idf\n",
        "y = dataset[\"spam\"].values\n",
        "\n",
        "# Split train / validation\n",
        "X_train, X_val, y_train, y_val = train_test_split(X, y, test_size=0.2, random_state=42, stratify=y)\n",
        "\n",
        "# Entraîner un modèle simple\n",
        "model = LogisticRegression(max_iter=1000)\n",
        "model.fit(X_train, y_train)\n",
        "\n",
        "# Prédictions\n",
        "y_train_pred = model.predict(X_train)\n",
        "y_val_pred = model.predict(X_val)\n"
      ]
    },
    {
      "cell_type": "markdown",
      "metadata": {},
      "source": [
        "### 3. Evaluation du model"
      ]
    },
    {
      "cell_type": "code",
      "execution_count": 12,
      "metadata": {},
      "outputs": [
        {
          "data": {
            "application/vnd.plotly.v1+json": {
              "config": {
                "plotlyServerURL": "https://plot.ly"
              },
              "data": [
                {
                  "colorscale": [
                    [
                      0,
                      "rgb(247,251,255)"
                    ],
                    [
                      0.125,
                      "rgb(222,235,247)"
                    ],
                    [
                      0.25,
                      "rgb(198,219,239)"
                    ],
                    [
                      0.375,
                      "rgb(158,202,225)"
                    ],
                    [
                      0.5,
                      "rgb(107,174,214)"
                    ],
                    [
                      0.625,
                      "rgb(66,146,198)"
                    ],
                    [
                      0.75,
                      "rgb(33,113,181)"
                    ],
                    [
                      0.875,
                      "rgb(8,81,156)"
                    ],
                    [
                      1,
                      "rgb(8,48,107)"
                    ]
                  ],
                  "showscale": false,
                  "text": {
                    "bdata": "OwBaAMQDAgA=",
                    "dtype": "i2",
                    "shape": "2, 2"
                  },
                  "texttemplate": "%{text}",
                  "type": "heatmap",
                  "x": [
                    "ham",
                    "spam"
                  ],
                  "xaxis": "x",
                  "y": [
                    "spam",
                    "ham"
                  ],
                  "yaxis": "y",
                  "z": {
                    "bdata": "OwBaAMQDAgA=",
                    "dtype": "i2",
                    "shape": "2, 2"
                  }
                },
                {
                  "cells": {
                    "values": [
                      [
                        "F1-score",
                        "Precision",
                        "Recall",
                        "Accuracy"
                      ],
                      [
                        0.747,
                        0.978,
                        0.604,
                        0.945
                      ]
                    ]
                  },
                  "domain": {
                    "x": [
                      0.55,
                      1
                    ],
                    "y": [
                      0,
                      1
                    ]
                  },
                  "header": {
                    "fill": {
                      "color": "lightgrey"
                    },
                    "values": [
                      "Métrique",
                      "Valeur"
                    ]
                  },
                  "type": "table"
                }
              ],
              "layout": {
                "annotations": [
                  {
                    "font": {
                      "size": 16
                    },
                    "showarrow": false,
                    "text": "Matrice de Confusion (Val)",
                    "x": 0.225,
                    "xanchor": "center",
                    "xref": "paper",
                    "y": 1,
                    "yanchor": "bottom",
                    "yref": "paper"
                  },
                  {
                    "font": {
                      "size": 16
                    },
                    "showarrow": false,
                    "text": "Métriques (Val)",
                    "x": 0.775,
                    "xanchor": "center",
                    "xref": "paper",
                    "y": 1,
                    "yanchor": "bottom",
                    "yref": "paper"
                  }
                ],
                "height": 400,
                "shapes": [
                  {
                    "line": {
                      "color": "black",
                      "width": 2
                    },
                    "type": "rect",
                    "x0": -0.5,
                    "x1": 1.5,
                    "xref": "x",
                    "y0": -0.5,
                    "y1": 1.5,
                    "yref": "y"
                  }
                ],
                "template": {
                  "data": {
                    "bar": [
                      {
                        "error_x": {
                          "color": "#2a3f5f"
                        },
                        "error_y": {
                          "color": "#2a3f5f"
                        },
                        "marker": {
                          "line": {
                            "color": "#E5ECF6",
                            "width": 0.5
                          },
                          "pattern": {
                            "fillmode": "overlay",
                            "size": 10,
                            "solidity": 0.2
                          }
                        },
                        "type": "bar"
                      }
                    ],
                    "barpolar": [
                      {
                        "marker": {
                          "line": {
                            "color": "#E5ECF6",
                            "width": 0.5
                          },
                          "pattern": {
                            "fillmode": "overlay",
                            "size": 10,
                            "solidity": 0.2
                          }
                        },
                        "type": "barpolar"
                      }
                    ],
                    "carpet": [
                      {
                        "aaxis": {
                          "endlinecolor": "#2a3f5f",
                          "gridcolor": "white",
                          "linecolor": "white",
                          "minorgridcolor": "white",
                          "startlinecolor": "#2a3f5f"
                        },
                        "baxis": {
                          "endlinecolor": "#2a3f5f",
                          "gridcolor": "white",
                          "linecolor": "white",
                          "minorgridcolor": "white",
                          "startlinecolor": "#2a3f5f"
                        },
                        "type": "carpet"
                      }
                    ],
                    "choropleth": [
                      {
                        "colorbar": {
                          "outlinewidth": 0,
                          "ticks": ""
                        },
                        "type": "choropleth"
                      }
                    ],
                    "contour": [
                      {
                        "colorbar": {
                          "outlinewidth": 0,
                          "ticks": ""
                        },
                        "colorscale": [
                          [
                            0,
                            "#0d0887"
                          ],
                          [
                            0.1111111111111111,
                            "#46039f"
                          ],
                          [
                            0.2222222222222222,
                            "#7201a8"
                          ],
                          [
                            0.3333333333333333,
                            "#9c179e"
                          ],
                          [
                            0.4444444444444444,
                            "#bd3786"
                          ],
                          [
                            0.5555555555555556,
                            "#d8576b"
                          ],
                          [
                            0.6666666666666666,
                            "#ed7953"
                          ],
                          [
                            0.7777777777777778,
                            "#fb9f3a"
                          ],
                          [
                            0.8888888888888888,
                            "#fdca26"
                          ],
                          [
                            1,
                            "#f0f921"
                          ]
                        ],
                        "type": "contour"
                      }
                    ],
                    "contourcarpet": [
                      {
                        "colorbar": {
                          "outlinewidth": 0,
                          "ticks": ""
                        },
                        "type": "contourcarpet"
                      }
                    ],
                    "heatmap": [
                      {
                        "colorbar": {
                          "outlinewidth": 0,
                          "ticks": ""
                        },
                        "colorscale": [
                          [
                            0,
                            "#0d0887"
                          ],
                          [
                            0.1111111111111111,
                            "#46039f"
                          ],
                          [
                            0.2222222222222222,
                            "#7201a8"
                          ],
                          [
                            0.3333333333333333,
                            "#9c179e"
                          ],
                          [
                            0.4444444444444444,
                            "#bd3786"
                          ],
                          [
                            0.5555555555555556,
                            "#d8576b"
                          ],
                          [
                            0.6666666666666666,
                            "#ed7953"
                          ],
                          [
                            0.7777777777777778,
                            "#fb9f3a"
                          ],
                          [
                            0.8888888888888888,
                            "#fdca26"
                          ],
                          [
                            1,
                            "#f0f921"
                          ]
                        ],
                        "type": "heatmap"
                      }
                    ],
                    "histogram": [
                      {
                        "marker": {
                          "pattern": {
                            "fillmode": "overlay",
                            "size": 10,
                            "solidity": 0.2
                          }
                        },
                        "type": "histogram"
                      }
                    ],
                    "histogram2d": [
                      {
                        "colorbar": {
                          "outlinewidth": 0,
                          "ticks": ""
                        },
                        "colorscale": [
                          [
                            0,
                            "#0d0887"
                          ],
                          [
                            0.1111111111111111,
                            "#46039f"
                          ],
                          [
                            0.2222222222222222,
                            "#7201a8"
                          ],
                          [
                            0.3333333333333333,
                            "#9c179e"
                          ],
                          [
                            0.4444444444444444,
                            "#bd3786"
                          ],
                          [
                            0.5555555555555556,
                            "#d8576b"
                          ],
                          [
                            0.6666666666666666,
                            "#ed7953"
                          ],
                          [
                            0.7777777777777778,
                            "#fb9f3a"
                          ],
                          [
                            0.8888888888888888,
                            "#fdca26"
                          ],
                          [
                            1,
                            "#f0f921"
                          ]
                        ],
                        "type": "histogram2d"
                      }
                    ],
                    "histogram2dcontour": [
                      {
                        "colorbar": {
                          "outlinewidth": 0,
                          "ticks": ""
                        },
                        "colorscale": [
                          [
                            0,
                            "#0d0887"
                          ],
                          [
                            0.1111111111111111,
                            "#46039f"
                          ],
                          [
                            0.2222222222222222,
                            "#7201a8"
                          ],
                          [
                            0.3333333333333333,
                            "#9c179e"
                          ],
                          [
                            0.4444444444444444,
                            "#bd3786"
                          ],
                          [
                            0.5555555555555556,
                            "#d8576b"
                          ],
                          [
                            0.6666666666666666,
                            "#ed7953"
                          ],
                          [
                            0.7777777777777778,
                            "#fb9f3a"
                          ],
                          [
                            0.8888888888888888,
                            "#fdca26"
                          ],
                          [
                            1,
                            "#f0f921"
                          ]
                        ],
                        "type": "histogram2dcontour"
                      }
                    ],
                    "mesh3d": [
                      {
                        "colorbar": {
                          "outlinewidth": 0,
                          "ticks": ""
                        },
                        "type": "mesh3d"
                      }
                    ],
                    "parcoords": [
                      {
                        "line": {
                          "colorbar": {
                            "outlinewidth": 0,
                            "ticks": ""
                          }
                        },
                        "type": "parcoords"
                      }
                    ],
                    "pie": [
                      {
                        "automargin": true,
                        "type": "pie"
                      }
                    ],
                    "scatter": [
                      {
                        "fillpattern": {
                          "fillmode": "overlay",
                          "size": 10,
                          "solidity": 0.2
                        },
                        "type": "scatter"
                      }
                    ],
                    "scatter3d": [
                      {
                        "line": {
                          "colorbar": {
                            "outlinewidth": 0,
                            "ticks": ""
                          }
                        },
                        "marker": {
                          "colorbar": {
                            "outlinewidth": 0,
                            "ticks": ""
                          }
                        },
                        "type": "scatter3d"
                      }
                    ],
                    "scattercarpet": [
                      {
                        "marker": {
                          "colorbar": {
                            "outlinewidth": 0,
                            "ticks": ""
                          }
                        },
                        "type": "scattercarpet"
                      }
                    ],
                    "scattergeo": [
                      {
                        "marker": {
                          "colorbar": {
                            "outlinewidth": 0,
                            "ticks": ""
                          }
                        },
                        "type": "scattergeo"
                      }
                    ],
                    "scattergl": [
                      {
                        "marker": {
                          "colorbar": {
                            "outlinewidth": 0,
                            "ticks": ""
                          }
                        },
                        "type": "scattergl"
                      }
                    ],
                    "scattermap": [
                      {
                        "marker": {
                          "colorbar": {
                            "outlinewidth": 0,
                            "ticks": ""
                          }
                        },
                        "type": "scattermap"
                      }
                    ],
                    "scattermapbox": [
                      {
                        "marker": {
                          "colorbar": {
                            "outlinewidth": 0,
                            "ticks": ""
                          }
                        },
                        "type": "scattermapbox"
                      }
                    ],
                    "scatterpolar": [
                      {
                        "marker": {
                          "colorbar": {
                            "outlinewidth": 0,
                            "ticks": ""
                          }
                        },
                        "type": "scatterpolar"
                      }
                    ],
                    "scatterpolargl": [
                      {
                        "marker": {
                          "colorbar": {
                            "outlinewidth": 0,
                            "ticks": ""
                          }
                        },
                        "type": "scatterpolargl"
                      }
                    ],
                    "scatterternary": [
                      {
                        "marker": {
                          "colorbar": {
                            "outlinewidth": 0,
                            "ticks": ""
                          }
                        },
                        "type": "scatterternary"
                      }
                    ],
                    "surface": [
                      {
                        "colorbar": {
                          "outlinewidth": 0,
                          "ticks": ""
                        },
                        "colorscale": [
                          [
                            0,
                            "#0d0887"
                          ],
                          [
                            0.1111111111111111,
                            "#46039f"
                          ],
                          [
                            0.2222222222222222,
                            "#7201a8"
                          ],
                          [
                            0.3333333333333333,
                            "#9c179e"
                          ],
                          [
                            0.4444444444444444,
                            "#bd3786"
                          ],
                          [
                            0.5555555555555556,
                            "#d8576b"
                          ],
                          [
                            0.6666666666666666,
                            "#ed7953"
                          ],
                          [
                            0.7777777777777778,
                            "#fb9f3a"
                          ],
                          [
                            0.8888888888888888,
                            "#fdca26"
                          ],
                          [
                            1,
                            "#f0f921"
                          ]
                        ],
                        "type": "surface"
                      }
                    ],
                    "table": [
                      {
                        "cells": {
                          "fill": {
                            "color": "#EBF0F8"
                          },
                          "line": {
                            "color": "white"
                          }
                        },
                        "header": {
                          "fill": {
                            "color": "#C8D4E3"
                          },
                          "line": {
                            "color": "white"
                          }
                        },
                        "type": "table"
                      }
                    ]
                  },
                  "layout": {
                    "annotationdefaults": {
                      "arrowcolor": "#2a3f5f",
                      "arrowhead": 0,
                      "arrowwidth": 1
                    },
                    "autotypenumbers": "strict",
                    "coloraxis": {
                      "colorbar": {
                        "outlinewidth": 0,
                        "ticks": ""
                      }
                    },
                    "colorscale": {
                      "diverging": [
                        [
                          0,
                          "#8e0152"
                        ],
                        [
                          0.1,
                          "#c51b7d"
                        ],
                        [
                          0.2,
                          "#de77ae"
                        ],
                        [
                          0.3,
                          "#f1b6da"
                        ],
                        [
                          0.4,
                          "#fde0ef"
                        ],
                        [
                          0.5,
                          "#f7f7f7"
                        ],
                        [
                          0.6,
                          "#e6f5d0"
                        ],
                        [
                          0.7,
                          "#b8e186"
                        ],
                        [
                          0.8,
                          "#7fbc41"
                        ],
                        [
                          0.9,
                          "#4d9221"
                        ],
                        [
                          1,
                          "#276419"
                        ]
                      ],
                      "sequential": [
                        [
                          0,
                          "#0d0887"
                        ],
                        [
                          0.1111111111111111,
                          "#46039f"
                        ],
                        [
                          0.2222222222222222,
                          "#7201a8"
                        ],
                        [
                          0.3333333333333333,
                          "#9c179e"
                        ],
                        [
                          0.4444444444444444,
                          "#bd3786"
                        ],
                        [
                          0.5555555555555556,
                          "#d8576b"
                        ],
                        [
                          0.6666666666666666,
                          "#ed7953"
                        ],
                        [
                          0.7777777777777778,
                          "#fb9f3a"
                        ],
                        [
                          0.8888888888888888,
                          "#fdca26"
                        ],
                        [
                          1,
                          "#f0f921"
                        ]
                      ],
                      "sequentialminus": [
                        [
                          0,
                          "#0d0887"
                        ],
                        [
                          0.1111111111111111,
                          "#46039f"
                        ],
                        [
                          0.2222222222222222,
                          "#7201a8"
                        ],
                        [
                          0.3333333333333333,
                          "#9c179e"
                        ],
                        [
                          0.4444444444444444,
                          "#bd3786"
                        ],
                        [
                          0.5555555555555556,
                          "#d8576b"
                        ],
                        [
                          0.6666666666666666,
                          "#ed7953"
                        ],
                        [
                          0.7777777777777778,
                          "#fb9f3a"
                        ],
                        [
                          0.8888888888888888,
                          "#fdca26"
                        ],
                        [
                          1,
                          "#f0f921"
                        ]
                      ]
                    },
                    "colorway": [
                      "#636efa",
                      "#EF553B",
                      "#00cc96",
                      "#ab63fa",
                      "#FFA15A",
                      "#19d3f3",
                      "#FF6692",
                      "#B6E880",
                      "#FF97FF",
                      "#FECB52"
                    ],
                    "font": {
                      "color": "#2a3f5f"
                    },
                    "geo": {
                      "bgcolor": "white",
                      "lakecolor": "white",
                      "landcolor": "#E5ECF6",
                      "showlakes": true,
                      "showland": true,
                      "subunitcolor": "white"
                    },
                    "hoverlabel": {
                      "align": "left"
                    },
                    "hovermode": "closest",
                    "mapbox": {
                      "style": "light"
                    },
                    "paper_bgcolor": "white",
                    "plot_bgcolor": "#E5ECF6",
                    "polar": {
                      "angularaxis": {
                        "gridcolor": "white",
                        "linecolor": "white",
                        "ticks": ""
                      },
                      "bgcolor": "#E5ECF6",
                      "radialaxis": {
                        "gridcolor": "white",
                        "linecolor": "white",
                        "ticks": ""
                      }
                    },
                    "scene": {
                      "xaxis": {
                        "backgroundcolor": "#E5ECF6",
                        "gridcolor": "white",
                        "gridwidth": 2,
                        "linecolor": "white",
                        "showbackground": true,
                        "ticks": "",
                        "zerolinecolor": "white"
                      },
                      "yaxis": {
                        "backgroundcolor": "#E5ECF6",
                        "gridcolor": "white",
                        "gridwidth": 2,
                        "linecolor": "white",
                        "showbackground": true,
                        "ticks": "",
                        "zerolinecolor": "white"
                      },
                      "zaxis": {
                        "backgroundcolor": "#E5ECF6",
                        "gridcolor": "white",
                        "gridwidth": 2,
                        "linecolor": "white",
                        "showbackground": true,
                        "ticks": "",
                        "zerolinecolor": "white"
                      }
                    },
                    "shapedefaults": {
                      "line": {
                        "color": "#2a3f5f"
                      }
                    },
                    "ternary": {
                      "aaxis": {
                        "gridcolor": "white",
                        "linecolor": "white",
                        "ticks": ""
                      },
                      "baxis": {
                        "gridcolor": "white",
                        "linecolor": "white",
                        "ticks": ""
                      },
                      "bgcolor": "#E5ECF6",
                      "caxis": {
                        "gridcolor": "white",
                        "linecolor": "white",
                        "ticks": ""
                      }
                    },
                    "title": {
                      "x": 0.05
                    },
                    "xaxis": {
                      "automargin": true,
                      "gridcolor": "white",
                      "linecolor": "white",
                      "ticks": "",
                      "title": {
                        "standoff": 15
                      },
                      "zerolinecolor": "white",
                      "zerolinewidth": 2
                    },
                    "yaxis": {
                      "automargin": true,
                      "gridcolor": "white",
                      "linecolor": "white",
                      "ticks": "",
                      "title": {
                        "standoff": 15
                      },
                      "zerolinecolor": "white",
                      "zerolinewidth": 2
                    }
                  }
                },
                "title": {
                  "text": "Évaluation Régression Logistique + TF-IDF"
                },
                "width": 700,
                "xaxis": {
                  "anchor": "y",
                  "domain": [
                    0,
                    0.45
                  ],
                  "title": {
                    "text": "Prédiction"
                  }
                },
                "yaxis": {
                  "anchor": "x",
                  "domain": [
                    0,
                    1
                  ],
                  "title": {
                    "text": "Réel"
                  }
                }
              }
            }
          },
          "metadata": {},
          "output_type": "display_data"
        }
      ],
      "source": [
        "# Matrice de confusion\n",
        "cm_val = confusion_matrix(y_val, y_val_pred)\n",
        "df_cm_val = pd.DataFrame(cm_val, index=[\"ham\", \"spam\"], columns=[\"ham\", \"spam\"])\n",
        "df_cm_val = df_cm_val.iloc[::-1]  # ✅ inverser les lignes pour que \"ham\" soit en haut\n",
        "\n",
        "\n",
        "# Métriques de validation\n",
        "metrics_val = {\n",
        "    \"F1-score\": round(f1_score(y_val, y_val_pred), 3),\n",
        "    \"Precision\": round(precision_score(y_val, y_val_pred), 3),\n",
        "    \"Recall\": round(recall_score(y_val, y_val_pred), 3),\n",
        "    \"Accuracy\": round(accuracy_score(y_val, y_val_pred), 3)\n",
        "}\n",
        "\n",
        "# Subplots : 1 ligne × 2 colonnes\n",
        "fig = make_subplots(\n",
        "    rows=1, cols=2,\n",
        "    subplot_titles=(\"Matrice de Confusion (Val)\", \"Métriques (Val)\"),\n",
        "    specs=[[{\"type\": \"heatmap\"}, {\"type\": \"table\"}]]\n",
        ")\n",
        "\n",
        "# Heatmap (avec \"ham / ham\" en haut à gauche)\n",
        "fig.add_trace(go.Heatmap(\n",
        "    z=df_cm_val.values,\n",
        "    x=df_cm_val.columns,\n",
        "    y=df_cm_val.index,\n",
        "    text=df_cm_val.values,\n",
        "    texttemplate=\"%{text}\",\n",
        "    colorscale='Blues',\n",
        "    showscale=False\n",
        "), row=1, col=1)\n",
        "\n",
        "# Bordure noire autour de la heatmap\n",
        "fig.add_shape(\n",
        "    type=\"rect\",\n",
        "    x0=-0.5, x1=1.5,\n",
        "    y0=-0.5, y1=1.5,\n",
        "    line=dict(color=\"black\", width=2),\n",
        "    row=1, col=1\n",
        ")\n",
        "\n",
        "\n",
        "# Table des métriques\n",
        "fig.add_trace(go.Table(\n",
        "    header=dict(values=[\"Métrique\", \"Valeur\"], fill_color=\"lightgrey\"),\n",
        "    cells=dict(values=[\n",
        "        list(metrics_val.keys()),\n",
        "        list(metrics_val.values())\n",
        "    ])\n",
        "), row=1, col=2)\n",
        "\n",
        "# Titres des axes\n",
        "fig.update_xaxes(title_text=\"Prédiction\", row=1, col=1)\n",
        "fig.update_yaxes(title_text=\"Réel\", row=1, col=1)\n",
        "\n",
        "# Mise en page\n",
        "fig.update_layout(\n",
        "    title_text=\"Évaluation Régression Logistique + TF-IDF\",\n",
        "    height=400, width=700\n",
        ")\n",
        "\n",
        "fig.show()\n",
        "\n"
      ]
    },
    {
      "cell_type": "markdown",
      "metadata": {},
      "source": [
        "# Deep Learning MODEL"
      ]
    },
    {
      "cell_type": "markdown",
      "metadata": {},
      "source": [
        "## Preprocessing"
      ]
    },
    {
      "cell_type": "markdown",
      "metadata": {
        "id": "sV1u8GZYhCLq"
      },
      "source": [
        "1. Encodage des commentaires"
      ]
    },
    {
      "cell_type": "code",
      "execution_count": 13,
      "metadata": {},
      "outputs": [
        {
          "data": {
            "text/html": [
              "<div>\n",
              "<style scoped>\n",
              "    .dataframe tbody tr th:only-of-type {\n",
              "        vertical-align: middle;\n",
              "    }\n",
              "\n",
              "    .dataframe tbody tr th {\n",
              "        vertical-align: top;\n",
              "    }\n",
              "\n",
              "    .dataframe thead th {\n",
              "        text-align: right;\n",
              "    }\n",
              "</style>\n",
              "<table border=\"1\" class=\"dataframe\">\n",
              "  <thead>\n",
              "    <tr style=\"text-align: right;\">\n",
              "      <th></th>\n",
              "      <th>spam</th>\n",
              "      <th>v2</th>\n",
              "      <th>v2clean</th>\n",
              "      <th>v2_clean</th>\n",
              "      <th>spam_clean</th>\n",
              "      <th>spam_clean_encoded</th>\n",
              "    </tr>\n",
              "  </thead>\n",
              "  <tbody>\n",
              "    <tr>\n",
              "      <th>0</th>\n",
              "      <td>0</td>\n",
              "      <td>Go until jurong point, crazy.. Available only ...</td>\n",
              "      <td>Go until jurong point crazy Available only in ...</td>\n",
              "      <td>go until jurong point crazy available only in ...</td>\n",
              "      <td>jurong point crazy available bugis n great wor...</td>\n",
              "      <td>[1, 231, 446, 463, 937, 32, 48, 206, 938, 79, ...</td>\n",
              "    </tr>\n",
              "    <tr>\n",
              "      <th>1</th>\n",
              "      <td>0</td>\n",
              "      <td>Ok lar... Joking wif u oni...</td>\n",
              "      <td>Ok lar Joking wif u oni</td>\n",
              "      <td>ok lar joking wif u oni</td>\n",
              "      <td>ok lar joke wif u oni</td>\n",
              "      <td>[8, 196, 464, 291, 2, 1]</td>\n",
              "    </tr>\n",
              "    <tr>\n",
              "      <th>2</th>\n",
              "      <td>1</td>\n",
              "      <td>Free entry in 2 a wkly comp to win FA Cup fina...</td>\n",
              "      <td>Free entry in 2 a wkly comp to win FA Cup fina...</td>\n",
              "      <td>free entry in 2 a wkly comp to win fa cup fina...</td>\n",
              "      <td>free entry 2 wkly comp win fa cup final tkts 2...</td>\n",
              "      <td>[10, 301, 3, 532, 660, 30, 1, 842, 425, 1, 1, ...</td>\n",
              "    </tr>\n",
              "    <tr>\n",
              "      <th>3</th>\n",
              "      <td>0</td>\n",
              "      <td>U dun say so early hor... U c already then say...</td>\n",
              "      <td>U dun say so early hor U c already then say</td>\n",
              "      <td>u dun say so early hor u c already then say</td>\n",
              "      <td>u dun early hor u c</td>\n",
              "      <td>[2, 125, 149, 1, 2, 81]</td>\n",
              "    </tr>\n",
              "    <tr>\n",
              "      <th>4</th>\n",
              "      <td>0</td>\n",
              "      <td>Nah I don't think he goes to usf, he lives aro...</td>\n",
              "      <td>Nah I don't think he goes to usf he lives arou...</td>\n",
              "      <td>nah i don't think he goes to usf he lives arou...</td>\n",
              "      <td>nah think usf live</td>\n",
              "      <td>[700, 20, 661, 130]</td>\n",
              "    </tr>\n",
              "  </tbody>\n",
              "</table>\n",
              "</div>"
            ],
            "text/plain": [
              "   spam                                                 v2  \\\n",
              "0     0  Go until jurong point, crazy.. Available only ...   \n",
              "1     0                      Ok lar... Joking wif u oni...   \n",
              "2     1  Free entry in 2 a wkly comp to win FA Cup fina...   \n",
              "3     0  U dun say so early hor... U c already then say...   \n",
              "4     0  Nah I don't think he goes to usf, he lives aro...   \n",
              "\n",
              "                                             v2clean  \\\n",
              "0  Go until jurong point crazy Available only in ...   \n",
              "1                            Ok lar Joking wif u oni   \n",
              "2  Free entry in 2 a wkly comp to win FA Cup fina...   \n",
              "3        U dun say so early hor U c already then say   \n",
              "4  Nah I don't think he goes to usf he lives arou...   \n",
              "\n",
              "                                            v2_clean  \\\n",
              "0  go until jurong point crazy available only in ...   \n",
              "1                            ok lar joking wif u oni   \n",
              "2  free entry in 2 a wkly comp to win fa cup fina...   \n",
              "3        u dun say so early hor u c already then say   \n",
              "4  nah i don't think he goes to usf he lives arou...   \n",
              "\n",
              "                                          spam_clean  \\\n",
              "0  jurong point crazy available bugis n great wor...   \n",
              "1                              ok lar joke wif u oni   \n",
              "2  free entry 2 wkly comp win fa cup final tkts 2...   \n",
              "3                                u dun early hor u c   \n",
              "4                                 nah think usf live   \n",
              "\n",
              "                                  spam_clean_encoded  \n",
              "0  [1, 231, 446, 463, 937, 32, 48, 206, 938, 79, ...  \n",
              "1                           [8, 196, 464, 291, 2, 1]  \n",
              "2  [10, 301, 3, 532, 660, 30, 1, 842, 425, 1, 1, ...  \n",
              "3                            [2, 125, 149, 1, 2, 81]  \n",
              "4                                [700, 20, 661, 130]  "
            ]
          },
          "execution_count": 13,
          "metadata": {},
          "output_type": "execute_result"
        }
      ],
      "source": [
        "tokenizer = tf.keras.preprocessing.text.Tokenizer(num_words=1000, oov_token=\"out_of_vocab\")\n",
        "\n",
        "tokenizer.fit_on_texts(dataset['spam_clean'])\n",
        "\n",
        "dataset[\"spam_clean_encoded\"] = tokenizer.texts_to_sequences(dataset['spam_clean'])\n",
        "dataset.head()"
      ]
    },
    {
      "cell_type": "markdown",
      "metadata": {
        "id": "2iWhGYhtim0_"
      },
      "source": [
        "8. Padding"
      ]
    },
    {
      "cell_type": "code",
      "execution_count": 14,
      "metadata": {},
      "outputs": [
        {
          "data": {
            "text/plain": [
              "(5572, 74)"
            ]
          },
          "execution_count": 14,
          "metadata": {},
          "output_type": "execute_result"
        }
      ],
      "source": [
        "spam_pad = tf.keras.preprocessing.sequence.pad_sequences(dataset.spam_clean_encoded, padding=\"post\")\n",
        "spam_pad.shape\n"
      ]
    },
    {
      "cell_type": "code",
      "execution_count": 15,
      "metadata": {},
      "outputs": [],
      "source": [
        "dataset.to_csv('data_spam_clean.csv', index=False)"
      ]
    },
    {
      "cell_type": "code",
      "execution_count": 16,
      "metadata": {},
      "outputs": [
        {
          "data": {
            "text/html": [
              "<div>\n",
              "<style scoped>\n",
              "    .dataframe tbody tr th:only-of-type {\n",
              "        vertical-align: middle;\n",
              "    }\n",
              "\n",
              "    .dataframe tbody tr th {\n",
              "        vertical-align: top;\n",
              "    }\n",
              "\n",
              "    .dataframe thead th {\n",
              "        text-align: right;\n",
              "    }\n",
              "</style>\n",
              "<table border=\"1\" class=\"dataframe\">\n",
              "  <thead>\n",
              "    <tr style=\"text-align: right;\">\n",
              "      <th></th>\n",
              "      <th>spam</th>\n",
              "      <th>v2</th>\n",
              "      <th>v2clean</th>\n",
              "      <th>v2_clean</th>\n",
              "      <th>spam_clean</th>\n",
              "      <th>spam_clean_encoded</th>\n",
              "    </tr>\n",
              "  </thead>\n",
              "  <tbody>\n",
              "    <tr>\n",
              "      <th>0</th>\n",
              "      <td>0</td>\n",
              "      <td>Go until jurong point, crazy.. Available only ...</td>\n",
              "      <td>Go until jurong point crazy Available only in ...</td>\n",
              "      <td>go until jurong point crazy available only in ...</td>\n",
              "      <td>jurong point crazy available bugis n great wor...</td>\n",
              "      <td>[1, 231, 446, 463, 937, 32, 48, 206, 938, 79, ...</td>\n",
              "    </tr>\n",
              "    <tr>\n",
              "      <th>1</th>\n",
              "      <td>0</td>\n",
              "      <td>Ok lar... Joking wif u oni...</td>\n",
              "      <td>Ok lar Joking wif u oni</td>\n",
              "      <td>ok lar joking wif u oni</td>\n",
              "      <td>ok lar joke wif u oni</td>\n",
              "      <td>[8, 196, 464, 291, 2, 1]</td>\n",
              "    </tr>\n",
              "    <tr>\n",
              "      <th>2</th>\n",
              "      <td>1</td>\n",
              "      <td>Free entry in 2 a wkly comp to win FA Cup fina...</td>\n",
              "      <td>Free entry in 2 a wkly comp to win FA Cup fina...</td>\n",
              "      <td>free entry in 2 a wkly comp to win fa cup fina...</td>\n",
              "      <td>free entry 2 wkly comp win fa cup final tkts 2...</td>\n",
              "      <td>[10, 301, 3, 532, 660, 30, 1, 842, 425, 1, 1, ...</td>\n",
              "    </tr>\n",
              "    <tr>\n",
              "      <th>3</th>\n",
              "      <td>0</td>\n",
              "      <td>U dun say so early hor... U c already then say...</td>\n",
              "      <td>U dun say so early hor U c already then say</td>\n",
              "      <td>u dun say so early hor u c already then say</td>\n",
              "      <td>u dun early hor u c</td>\n",
              "      <td>[2, 125, 149, 1, 2, 81]</td>\n",
              "    </tr>\n",
              "    <tr>\n",
              "      <th>4</th>\n",
              "      <td>0</td>\n",
              "      <td>Nah I don't think he goes to usf, he lives aro...</td>\n",
              "      <td>Nah I don't think he goes to usf he lives arou...</td>\n",
              "      <td>nah i don't think he goes to usf he lives arou...</td>\n",
              "      <td>nah think usf live</td>\n",
              "      <td>[700, 20, 661, 130]</td>\n",
              "    </tr>\n",
              "  </tbody>\n",
              "</table>\n",
              "</div>"
            ],
            "text/plain": [
              "   spam                                                 v2  \\\n",
              "0     0  Go until jurong point, crazy.. Available only ...   \n",
              "1     0                      Ok lar... Joking wif u oni...   \n",
              "2     1  Free entry in 2 a wkly comp to win FA Cup fina...   \n",
              "3     0  U dun say so early hor... U c already then say...   \n",
              "4     0  Nah I don't think he goes to usf, he lives aro...   \n",
              "\n",
              "                                             v2clean  \\\n",
              "0  Go until jurong point crazy Available only in ...   \n",
              "1                            Ok lar Joking wif u oni   \n",
              "2  Free entry in 2 a wkly comp to win FA Cup fina...   \n",
              "3        U dun say so early hor U c already then say   \n",
              "4  Nah I don't think he goes to usf he lives arou...   \n",
              "\n",
              "                                            v2_clean  \\\n",
              "0  go until jurong point crazy available only in ...   \n",
              "1                            ok lar joking wif u oni   \n",
              "2  free entry in 2 a wkly comp to win fa cup fina...   \n",
              "3        u dun say so early hor u c already then say   \n",
              "4  nah i don't think he goes to usf he lives arou...   \n",
              "\n",
              "                                          spam_clean  \\\n",
              "0  jurong point crazy available bugis n great wor...   \n",
              "1                              ok lar joke wif u oni   \n",
              "2  free entry 2 wkly comp win fa cup final tkts 2...   \n",
              "3                                u dun early hor u c   \n",
              "4                                 nah think usf live   \n",
              "\n",
              "                                  spam_clean_encoded  \n",
              "0  [1, 231, 446, 463, 937, 32, 48, 206, 938, 79, ...  \n",
              "1                           [8, 196, 464, 291, 2, 1]  \n",
              "2  [10, 301, 3, 532, 660, 30, 1, 842, 425, 1, 1, ...  \n",
              "3                            [2, 125, 149, 1, 2, 81]  \n",
              "4                                [700, 20, 661, 130]  "
            ]
          },
          "execution_count": 16,
          "metadata": {},
          "output_type": "execute_result"
        }
      ],
      "source": [
        "dataset.head()"
      ]
    },
    {
      "cell_type": "markdown",
      "metadata": {
        "id": "6Ch6zwLZpW6i"
      },
      "source": [
        "9. Train_val_split\n",
        "\n"
      ]
    },
    {
      "cell_type": "code",
      "execution_count": 17,
      "metadata": {},
      "outputs": [],
      "source": [
        "# Set seed for reproducibility\n",
        "seed = 42\n",
        "random.seed(seed)\n",
        "np.random.seed(seed)\n",
        "tf.random.set_seed(seed)"
      ]
    },
    {
      "cell_type": "code",
      "execution_count": 18,
      "metadata": {},
      "outputs": [],
      "source": [
        "# Split\n",
        "X_train, X_valtest, y_train, y_valtest = train_test_split(\n",
        "    spam_pad, dataset.spam, test_size=0.4, stratify=dataset['spam'], random_state=seed)\n",
        "\n",
        "X_val, X_test, y_val, y_test = train_test_split(\n",
        "    X_valtest, y_valtest, test_size=0.5, stratify=y_valtest, random_state=seed)"
      ]
    },
    {
      "cell_type": "code",
      "execution_count": 19,
      "metadata": {},
      "outputs": [],
      "source": [
        "# Dataset batches with seed in shuffle\n",
        "train_batch = tf.data.Dataset.from_tensor_slices((X_train, y_train)).shuffle(len(X_train), seed=seed).batch(64)\n",
        "val_batch = tf.data.Dataset.from_tensor_slices((X_val, y_val)).shuffle(len(X_val), seed=seed).batch(64)\n",
        "test_batch = tf.data.Dataset.from_tensor_slices((X_test, y_test)).shuffle(len(X_test), seed=seed).batch(64)\n"
      ]
    },
    {
      "cell_type": "code",
      "execution_count": 20,
      "metadata": {},
      "outputs": [
        {
          "name": "stdout",
          "output_type": "stream",
          "text": [
            "tf.Tensor(\n",
            "[[ 49  53 297 ...   0   0   0]\n",
            " [  1   1  67 ...   0   0   0]\n",
            " [  1  78 159 ...   0   0   0]\n",
            " ...\n",
            " [  1 179  42 ...   0   0   0]\n",
            " [128 511   1 ...   0   0   0]\n",
            " [  1 109  31 ...   0   0   0]], shape=(64, 74), dtype=int32) tf.Tensor(\n",
            "[0 1 0 0 0 0 0 0 0 0 0 0 0 0 0 0 0 0 0 1 0 0 0 1 0 0 0 0 0 1 0 1 0 0 0 0 0\n",
            " 0 0 1 0 0 0 0 0 1 0 0 0 0 0 0 0 0 0 0 1 0 0 0 0 0 0 1], shape=(64,), dtype=int64)\n"
          ]
        }
      ],
      "source": [
        "for tensor, spam in train_batch.take(1):\n",
        "  print(tensor, spam)"
      ]
    },
    {
      "cell_type": "markdown",
      "metadata": {},
      "source": [
        "##  RNN model"
      ]
    },
    {
      "cell_type": "markdown",
      "metadata": {
        "id": "rD3n6l1TplDN"
      },
      "source": [
        "### 1. structure model."
      ]
    },
    {
      "cell_type": "code",
      "execution_count": 21,
      "metadata": {
        "id": "kYxNpFYEUWI4"
      },
      "outputs": [
        {
          "name": "stdout",
          "output_type": "stream",
          "text": [
            "Model: \"sequential\"\n",
            "_________________________________________________________________\n",
            " Layer (type)                Output Shape              Param #   \n",
            "=================================================================\n",
            " embedding (Embedding)       (None, 74, 8)             8008      \n",
            "                                                                 \n",
            " global_average_pooling1d (G  (None, 8)                0         \n",
            " lobalAveragePooling1D)                                          \n",
            "                                                                 \n",
            " dense (Dense)               (None, 16)                144       \n",
            "                                                                 \n",
            " dense_1 (Dense)             (None, 1)                 17        \n",
            "                                                                 \n",
            "=================================================================\n",
            "Total params: 8,169\n",
            "Trainable params: 8,169\n",
            "Non-trainable params: 0\n",
            "_________________________________________________________________\n"
          ]
        }
      ],
      "source": [
        "vocab_size = tokenizer.num_words\n",
        "model_rnn = tf.keras.Sequential([\n",
        "                  # Couche d'Input Word Embedding           \n",
        "                  tf.keras.layers.Embedding(vocab_size+1, 8, input_shape=[tensor.shape[1],],name=\"embedding\"),\n",
        "                  \n",
        "                  # Gobal average pooling\n",
        "                  tf.keras.layers.GlobalAveragePooling1D(),\n",
        "\n",
        "                  # Couche Dense classique\n",
        "                  tf.keras.layers.Dense(16, activation='relu'),\n",
        "\n",
        "                  # Couche de sortie avec fonction d'activation sigmoid\n",
        "                  tf.keras.layers.Dense(1, activation=\"sigmoid\")\n",
        "])\n",
        "\n",
        "model_rnn.summary()"
      ]
    },
    {
      "cell_type": "markdown",
      "metadata": {
        "id": "v-gKYS4_pu8I"
      },
      "source": [
        "### 2. Model compilation with the loss function, and the Adam optimizer."
      ]
    },
    {
      "cell_type": "code",
      "execution_count": 22,
      "metadata": {},
      "outputs": [],
      "source": [
        "optimizer= tf.keras.optimizers.Adam()"
      ]
    },
    {
      "cell_type": "code",
      "execution_count": 23,
      "metadata": {},
      "outputs": [],
      "source": [
        "# We compile the model_rnn\n",
        "model_rnn.compile(optimizer=optimizer,\n",
        "              loss=tf.keras.losses.BinaryCrossentropy(),\n",
        "              metrics=['accuracy'])"
      ]
    },
    {
      "cell_type": "code",
      "execution_count": 24,
      "metadata": {},
      "outputs": [
        {
          "data": {
            "text/plain": [
              "spam\n",
              "0    4825\n",
              "1     747\n",
              "Name: count, dtype: int64"
            ]
          },
          "execution_count": 24,
          "metadata": {},
          "output_type": "execute_result"
        }
      ],
      "source": [
        "dataset['spam'].value_counts()"
      ]
    },
    {
      "cell_type": "code",
      "execution_count": 25,
      "metadata": {},
      "outputs": [
        {
          "data": {
            "text/plain": [
              "{0: 0.5774093264248704, 1: 3.72958500669344}"
            ]
          },
          "execution_count": 25,
          "metadata": {},
          "output_type": "execute_result"
        }
      ],
      "source": [
        "weights = 1/(dataset['spam']).value_counts()\n",
        "weights = weights * len(dataset)/2\n",
        "weights = {index : values for index, values in zip(weights.index, weights.values)}\n",
        "weights"
      ]
    },
    {
      "cell_type": "markdown",
      "metadata": {
        "id": "r5Rsbpckp3jK"
      },
      "source": [
        "### 3. Model fitting on n epochs with weights to penalize too frequent notes. "
      ]
    },
    {
      "cell_type": "code",
      "execution_count": 26,
      "metadata": {},
      "outputs": [
        {
          "name": "stdout",
          "output_type": "stream",
          "text": [
            "Epoch 1/100\n",
            "53/53 [==============================] - 1s 3ms/step - loss: 0.6903 - accuracy: 0.8654 - val_loss: 0.6638 - val_accuracy: 0.8654\n",
            "Epoch 2/100\n",
            "53/53 [==============================] - 0s 1ms/step - loss: 0.6816 - accuracy: 0.8702 - val_loss: 0.6490 - val_accuracy: 0.8788\n",
            "Epoch 3/100\n",
            "53/53 [==============================] - 0s 2ms/step - loss: 0.6631 - accuracy: 0.8875 - val_loss: 0.6005 - val_accuracy: 0.8959\n",
            "Epoch 4/100\n",
            "53/53 [==============================] - 0s 1ms/step - loss: 0.6300 - accuracy: 0.9070 - val_loss: 0.5399 - val_accuracy: 0.9210\n",
            "Epoch 5/100\n",
            "53/53 [==============================] - 0s 1ms/step - loss: 0.5776 - accuracy: 0.9372 - val_loss: 0.4415 - val_accuracy: 0.9318\n",
            "Epoch 6/100\n",
            "53/53 [==============================] - 0s 2ms/step - loss: 0.5098 - accuracy: 0.9420 - val_loss: 0.3718 - val_accuracy: 0.9399\n",
            "Epoch 7/100\n",
            "53/53 [==============================] - 0s 1ms/step - loss: 0.4417 - accuracy: 0.9509 - val_loss: 0.3240 - val_accuracy: 0.9461\n",
            "Epoch 8/100\n",
            "53/53 [==============================] - 0s 1ms/step - loss: 0.3780 - accuracy: 0.9509 - val_loss: 0.3070 - val_accuracy: 0.9399\n",
            "Epoch 9/100\n",
            "53/53 [==============================] - 0s 1ms/step - loss: 0.3261 - accuracy: 0.9488 - val_loss: 0.2596 - val_accuracy: 0.9425\n",
            "Epoch 10/100\n",
            "53/53 [==============================] - 0s 1ms/step - loss: 0.2839 - accuracy: 0.9515 - val_loss: 0.2614 - val_accuracy: 0.9354\n",
            "Epoch 11/100\n",
            "53/53 [==============================] - 0s 1ms/step - loss: 0.2522 - accuracy: 0.9518 - val_loss: 0.2427 - val_accuracy: 0.9363\n",
            "Epoch 12/100\n",
            "53/53 [==============================] - 0s 2ms/step - loss: 0.2296 - accuracy: 0.9512 - val_loss: 0.2166 - val_accuracy: 0.9417\n",
            "Epoch 13/100\n",
            "53/53 [==============================] - 0s 1ms/step - loss: 0.2062 - accuracy: 0.9533 - val_loss: 0.1748 - val_accuracy: 0.9506\n",
            "Epoch 14/100\n",
            "53/53 [==============================] - 0s 1ms/step - loss: 0.1889 - accuracy: 0.9587 - val_loss: 0.1611 - val_accuracy: 0.9524\n",
            "Epoch 15/100\n",
            "53/53 [==============================] - 0s 1ms/step - loss: 0.1748 - accuracy: 0.9623 - val_loss: 0.1971 - val_accuracy: 0.9461\n",
            "Epoch 16/100\n",
            "53/53 [==============================] - 0s 1ms/step - loss: 0.1625 - accuracy: 0.9653 - val_loss: 0.1714 - val_accuracy: 0.9506\n",
            "Epoch 17/100\n",
            "53/53 [==============================] - 0s 1ms/step - loss: 0.1520 - accuracy: 0.9674 - val_loss: 0.1379 - val_accuracy: 0.9587\n",
            "Epoch 18/100\n",
            "53/53 [==============================] - 0s 1ms/step - loss: 0.1406 - accuracy: 0.9689 - val_loss: 0.1300 - val_accuracy: 0.9614\n",
            "Epoch 19/100\n",
            "53/53 [==============================] - 0s 1ms/step - loss: 0.1331 - accuracy: 0.9704 - val_loss: 0.1378 - val_accuracy: 0.9614\n",
            "Epoch 20/100\n",
            "53/53 [==============================] - 0s 2ms/step - loss: 0.1252 - accuracy: 0.9731 - val_loss: 0.1101 - val_accuracy: 0.9677\n",
            "Epoch 21/100\n",
            "53/53 [==============================] - 0s 2ms/step - loss: 0.1171 - accuracy: 0.9761 - val_loss: 0.1279 - val_accuracy: 0.9641\n",
            "Epoch 22/100\n",
            "53/53 [==============================] - 0s 2ms/step - loss: 0.1106 - accuracy: 0.9791 - val_loss: 0.1221 - val_accuracy: 0.9659\n",
            "Epoch 23/100\n",
            "53/53 [==============================] - 0s 1ms/step - loss: 0.1047 - accuracy: 0.9803 - val_loss: 0.1120 - val_accuracy: 0.9686\n",
            "Epoch 24/100\n",
            "53/53 [==============================] - 0s 1ms/step - loss: 0.0989 - accuracy: 0.9809 - val_loss: 0.0974 - val_accuracy: 0.9740\n",
            "Epoch 25/100\n",
            "53/53 [==============================] - 0s 1ms/step - loss: 0.0942 - accuracy: 0.9812 - val_loss: 0.0905 - val_accuracy: 0.9740\n",
            "Epoch 26/100\n",
            "53/53 [==============================] - 0s 1ms/step - loss: 0.0905 - accuracy: 0.9829 - val_loss: 0.0909 - val_accuracy: 0.9740\n",
            "Epoch 27/100\n",
            "53/53 [==============================] - 0s 1ms/step - loss: 0.0863 - accuracy: 0.9829 - val_loss: 0.0981 - val_accuracy: 0.9722\n",
            "Epoch 28/100\n",
            "53/53 [==============================] - 0s 1ms/step - loss: 0.0824 - accuracy: 0.9841 - val_loss: 0.0921 - val_accuracy: 0.9749\n",
            "Epoch 29/100\n",
            "53/53 [==============================] - 0s 2ms/step - loss: 0.0782 - accuracy: 0.9844 - val_loss: 0.0936 - val_accuracy: 0.9740\n",
            "Epoch 30/100\n",
            "53/53 [==============================] - 0s 1ms/step - loss: 0.0746 - accuracy: 0.9841 - val_loss: 0.0829 - val_accuracy: 0.9767\n",
            "Epoch 31/100\n",
            "53/53 [==============================] - 0s 2ms/step - loss: 0.0718 - accuracy: 0.9856 - val_loss: 0.0953 - val_accuracy: 0.9740\n",
            "Epoch 32/100\n",
            "53/53 [==============================] - 0s 1ms/step - loss: 0.0693 - accuracy: 0.9871 - val_loss: 0.0953 - val_accuracy: 0.9740\n",
            "Epoch 33/100\n",
            "53/53 [==============================] - 0s 1ms/step - loss: 0.0661 - accuracy: 0.9859 - val_loss: 0.0835 - val_accuracy: 0.9767\n",
            "Epoch 34/100\n",
            "53/53 [==============================] - 0s 2ms/step - loss: 0.0639 - accuracy: 0.9877 - val_loss: 0.0839 - val_accuracy: 0.9776\n",
            "Epoch 35/100\n",
            "53/53 [==============================] - 0s 1ms/step - loss: 0.0623 - accuracy: 0.9886 - val_loss: 0.0891 - val_accuracy: 0.9758\n",
            "Epoch 36/100\n",
            "53/53 [==============================] - 0s 1ms/step - loss: 0.0599 - accuracy: 0.9886 - val_loss: 0.0865 - val_accuracy: 0.9758\n",
            "Epoch 37/100\n",
            "53/53 [==============================] - 0s 2ms/step - loss: 0.0573 - accuracy: 0.9898 - val_loss: 0.0800 - val_accuracy: 0.9776\n",
            "Epoch 38/100\n",
            "53/53 [==============================] - 0s 1ms/step - loss: 0.0562 - accuracy: 0.9889 - val_loss: 0.0872 - val_accuracy: 0.9767\n",
            "Epoch 39/100\n",
            "53/53 [==============================] - 0s 2ms/step - loss: 0.0536 - accuracy: 0.9895 - val_loss: 0.0835 - val_accuracy: 0.9776\n",
            "Epoch 40/100\n",
            "53/53 [==============================] - 0s 1ms/step - loss: 0.0518 - accuracy: 0.9907 - val_loss: 0.0790 - val_accuracy: 0.9794\n",
            "Epoch 41/100\n",
            "53/53 [==============================] - 0s 1ms/step - loss: 0.0506 - accuracy: 0.9910 - val_loss: 0.0821 - val_accuracy: 0.9794\n",
            "Epoch 42/100\n",
            "53/53 [==============================] - 0s 1ms/step - loss: 0.0492 - accuracy: 0.9907 - val_loss: 0.0778 - val_accuracy: 0.9794\n",
            "Epoch 43/100\n",
            "53/53 [==============================] - 0s 1ms/step - loss: 0.0482 - accuracy: 0.9910 - val_loss: 0.0818 - val_accuracy: 0.9785\n",
            "Epoch 44/100\n",
            "53/53 [==============================] - 0s 1ms/step - loss: 0.0463 - accuracy: 0.9916 - val_loss: 0.0758 - val_accuracy: 0.9785\n",
            "Epoch 45/100\n",
            "53/53 [==============================] - 0s 1ms/step - loss: 0.0443 - accuracy: 0.9922 - val_loss: 0.0787 - val_accuracy: 0.9785\n",
            "Epoch 46/100\n",
            "53/53 [==============================] - 0s 1ms/step - loss: 0.0430 - accuracy: 0.9922 - val_loss: 0.0829 - val_accuracy: 0.9776\n",
            "Epoch 47/100\n",
            "53/53 [==============================] - 0s 1ms/step - loss: 0.0418 - accuracy: 0.9925 - val_loss: 0.0826 - val_accuracy: 0.9785\n",
            "Epoch 48/100\n",
            "53/53 [==============================] - 0s 1ms/step - loss: 0.0408 - accuracy: 0.9904 - val_loss: 0.0761 - val_accuracy: 0.9776\n",
            "Epoch 49/100\n",
            "53/53 [==============================] - 0s 1ms/step - loss: 0.0409 - accuracy: 0.9922 - val_loss: 0.0740 - val_accuracy: 0.9785\n",
            "Epoch 50/100\n",
            "53/53 [==============================] - 0s 2ms/step - loss: 0.0391 - accuracy: 0.9943 - val_loss: 0.0767 - val_accuracy: 0.9776\n",
            "Epoch 51/100\n",
            "53/53 [==============================] - 0s 1ms/step - loss: 0.0376 - accuracy: 0.9922 - val_loss: 0.0765 - val_accuracy: 0.9776\n",
            "Epoch 52/100\n",
            "53/53 [==============================] - 0s 2ms/step - loss: 0.0368 - accuracy: 0.9931 - val_loss: 0.0757 - val_accuracy: 0.9776\n",
            "Epoch 53/100\n",
            "53/53 [==============================] - 0s 2ms/step - loss: 0.0360 - accuracy: 0.9934 - val_loss: 0.0797 - val_accuracy: 0.9776\n",
            "Epoch 54/100\n",
            "53/53 [==============================] - 0s 1ms/step - loss: 0.0351 - accuracy: 0.9925 - val_loss: 0.0757 - val_accuracy: 0.9776\n",
            "Epoch 55/100\n",
            "53/53 [==============================] - 0s 1ms/step - loss: 0.0345 - accuracy: 0.9928 - val_loss: 0.0764 - val_accuracy: 0.9776\n",
            "Epoch 56/100\n",
            "53/53 [==============================] - 0s 1ms/step - loss: 0.0342 - accuracy: 0.9943 - val_loss: 0.0817 - val_accuracy: 0.9776\n",
            "Epoch 57/100\n",
            "53/53 [==============================] - 0s 1ms/step - loss: 0.0320 - accuracy: 0.9937 - val_loss: 0.0762 - val_accuracy: 0.9767\n",
            "Epoch 58/100\n",
            "53/53 [==============================] - 0s 2ms/step - loss: 0.0320 - accuracy: 0.9946 - val_loss: 0.0809 - val_accuracy: 0.9776\n",
            "Epoch 59/100\n",
            "53/53 [==============================] - 0s 1ms/step - loss: 0.0320 - accuracy: 0.9943 - val_loss: 0.0804 - val_accuracy: 0.9776\n",
            "Epoch 60/100\n",
            "53/53 [==============================] - 0s 2ms/step - loss: 0.0301 - accuracy: 0.9952 - val_loss: 0.0858 - val_accuracy: 0.9758\n",
            "Epoch 61/100\n",
            "53/53 [==============================] - 0s 1ms/step - loss: 0.0307 - accuracy: 0.9931 - val_loss: 0.0852 - val_accuracy: 0.9767\n",
            "Epoch 62/100\n",
            "53/53 [==============================] - 0s 1ms/step - loss: 0.0299 - accuracy: 0.9940 - val_loss: 0.0782 - val_accuracy: 0.9767\n",
            "Epoch 63/100\n",
            "53/53 [==============================] - 0s 2ms/step - loss: 0.0290 - accuracy: 0.9952 - val_loss: 0.0822 - val_accuracy: 0.9785\n",
            "Epoch 64/100\n",
            "53/53 [==============================] - 0s 2ms/step - loss: 0.0303 - accuracy: 0.9937 - val_loss: 0.0997 - val_accuracy: 0.9686\n",
            "Epoch 65/100\n",
            "53/53 [==============================] - 0s 1ms/step - loss: 0.0291 - accuracy: 0.9931 - val_loss: 0.0921 - val_accuracy: 0.9713\n",
            "Epoch 66/100\n",
            "53/53 [==============================] - 0s 1ms/step - loss: 0.0281 - accuracy: 0.9955 - val_loss: 0.0808 - val_accuracy: 0.9785\n",
            "Epoch 67/100\n",
            "53/53 [==============================] - 0s 2ms/step - loss: 0.0270 - accuracy: 0.9946 - val_loss: 0.0799 - val_accuracy: 0.9767\n",
            "Epoch 68/100\n",
            "53/53 [==============================] - 0s 1ms/step - loss: 0.0263 - accuracy: 0.9949 - val_loss: 0.0821 - val_accuracy: 0.9794\n",
            "Epoch 69/100\n",
            "53/53 [==============================] - 0s 1ms/step - loss: 0.0258 - accuracy: 0.9952 - val_loss: 0.0810 - val_accuracy: 0.9767\n",
            "Epoch 70/100\n",
            "53/53 [==============================] - 0s 1ms/step - loss: 0.0253 - accuracy: 0.9952 - val_loss: 0.0812 - val_accuracy: 0.9767\n",
            "Epoch 71/100\n",
            "53/53 [==============================] - 0s 2ms/step - loss: 0.0249 - accuracy: 0.9952 - val_loss: 0.0826 - val_accuracy: 0.9785\n",
            "Epoch 72/100\n",
            "53/53 [==============================] - 0s 1ms/step - loss: 0.0240 - accuracy: 0.9967 - val_loss: 0.0839 - val_accuracy: 0.9776\n",
            "Epoch 73/100\n",
            "53/53 [==============================] - 0s 1ms/step - loss: 0.0244 - accuracy: 0.9955 - val_loss: 0.0821 - val_accuracy: 0.9767\n",
            "Epoch 74/100\n",
            "53/53 [==============================] - 0s 2ms/step - loss: 0.0240 - accuracy: 0.9958 - val_loss: 0.0850 - val_accuracy: 0.9776\n",
            "Epoch 75/100\n",
            "53/53 [==============================] - 0s 2ms/step - loss: 0.0230 - accuracy: 0.9970 - val_loss: 0.0827 - val_accuracy: 0.9767\n",
            "Epoch 76/100\n",
            "53/53 [==============================] - 0s 1ms/step - loss: 0.0232 - accuracy: 0.9958 - val_loss: 0.0831 - val_accuracy: 0.9776\n",
            "Epoch 77/100\n",
            "53/53 [==============================] - 0s 2ms/step - loss: 0.0233 - accuracy: 0.9958 - val_loss: 0.0847 - val_accuracy: 0.9776\n",
            "Epoch 78/100\n",
            "53/53 [==============================] - 0s 2ms/step - loss: 0.0223 - accuracy: 0.9958 - val_loss: 0.0839 - val_accuracy: 0.9767\n",
            "Epoch 79/100\n",
            "53/53 [==============================] - 0s 2ms/step - loss: 0.0214 - accuracy: 0.9970 - val_loss: 0.0851 - val_accuracy: 0.9776\n",
            "Epoch 80/100\n",
            "53/53 [==============================] - 0s 1ms/step - loss: 0.0216 - accuracy: 0.9964 - val_loss: 0.0848 - val_accuracy: 0.9785\n",
            "Epoch 81/100\n",
            "53/53 [==============================] - 0s 1ms/step - loss: 0.0212 - accuracy: 0.9964 - val_loss: 0.0855 - val_accuracy: 0.9776\n",
            "Epoch 82/100\n",
            "53/53 [==============================] - 0s 2ms/step - loss: 0.0204 - accuracy: 0.9967 - val_loss: 0.0887 - val_accuracy: 0.9785\n",
            "Epoch 83/100\n",
            "53/53 [==============================] - 0s 2ms/step - loss: 0.0217 - accuracy: 0.9943 - val_loss: 0.0863 - val_accuracy: 0.9776\n",
            "Epoch 84/100\n",
            "53/53 [==============================] - 0s 1ms/step - loss: 0.0208 - accuracy: 0.9967 - val_loss: 0.0865 - val_accuracy: 0.9776\n",
            "Epoch 85/100\n",
            "53/53 [==============================] - 0s 1ms/step - loss: 0.0195 - accuracy: 0.9970 - val_loss: 0.0873 - val_accuracy: 0.9785\n",
            "Epoch 86/100\n",
            "53/53 [==============================] - 0s 1ms/step - loss: 0.0196 - accuracy: 0.9961 - val_loss: 0.0878 - val_accuracy: 0.9776\n",
            "Epoch 87/100\n",
            "53/53 [==============================] - 0s 2ms/step - loss: 0.0200 - accuracy: 0.9964 - val_loss: 0.0873 - val_accuracy: 0.9776\n",
            "Epoch 88/100\n",
            "53/53 [==============================] - 0s 1ms/step - loss: 0.0190 - accuracy: 0.9967 - val_loss: 0.0876 - val_accuracy: 0.9785\n",
            "Epoch 89/100\n",
            "53/53 [==============================] - 0s 2ms/step - loss: 0.0197 - accuracy: 0.9961 - val_loss: 0.0882 - val_accuracy: 0.9785\n",
            "Epoch 90/100\n",
            "53/53 [==============================] - 0s 1ms/step - loss: 0.0193 - accuracy: 0.9967 - val_loss: 0.0896 - val_accuracy: 0.9785\n",
            "Epoch 91/100\n",
            "53/53 [==============================] - 0s 2ms/step - loss: 0.0184 - accuracy: 0.9967 - val_loss: 0.0887 - val_accuracy: 0.9785\n",
            "Epoch 92/100\n",
            "53/53 [==============================] - 0s 1ms/step - loss: 0.0183 - accuracy: 0.9964 - val_loss: 0.0912 - val_accuracy: 0.9767\n",
            "Epoch 93/100\n",
            "53/53 [==============================] - 0s 1ms/step - loss: 0.0188 - accuracy: 0.9967 - val_loss: 0.0897 - val_accuracy: 0.9785\n",
            "Epoch 94/100\n",
            "53/53 [==============================] - 0s 1ms/step - loss: 0.0179 - accuracy: 0.9964 - val_loss: 0.0903 - val_accuracy: 0.9785\n",
            "Epoch 95/100\n",
            "53/53 [==============================] - 0s 2ms/step - loss: 0.0175 - accuracy: 0.9964 - val_loss: 0.0915 - val_accuracy: 0.9803\n",
            "Epoch 96/100\n",
            "53/53 [==============================] - 0s 1ms/step - loss: 0.0175 - accuracy: 0.9970 - val_loss: 0.0905 - val_accuracy: 0.9794\n",
            "Epoch 97/100\n",
            "53/53 [==============================] - 0s 2ms/step - loss: 0.0175 - accuracy: 0.9973 - val_loss: 0.0908 - val_accuracy: 0.9794\n",
            "Epoch 98/100\n",
            "53/53 [==============================] - 0s 1ms/step - loss: 0.0174 - accuracy: 0.9970 - val_loss: 0.0916 - val_accuracy: 0.9785\n",
            "Epoch 99/100\n",
            "53/53 [==============================] - 0s 1ms/step - loss: 0.0166 - accuracy: 0.9970 - val_loss: 0.0928 - val_accuracy: 0.9767\n",
            "Epoch 100/100\n",
            "53/53 [==============================] - 0s 2ms/step - loss: 0.0170 - accuracy: 0.9964 - val_loss: 0.0920 - val_accuracy: 0.9794\n"
          ]
        }
      ],
      "source": [
        "# Fit the model on epochs\n",
        "history = model_rnn.fit(train_batch,\n",
        "                    epochs=100,\n",
        "                    validation_data=val_batch,\n",
        "                    class_weight=weights\n",
        "                    )"
      ]
    },
    {
      "cell_type": "markdown",
      "metadata": {
        "id": "xDnsfUFQTkyJ"
      },
      "source": [
        "### 4- Evaluation "
      ]
    },
    {
      "cell_type": "code",
      "execution_count": 27,
      "metadata": {},
      "outputs": [
        {
          "data": {
            "image/png": "[encoded data removed]",
            "text/plain": [
              "<Figure size 1000x500 with 2 Axes>"
            ]
          },
          "metadata": {},
          "output_type": "display_data"
        }
      ],
      "source": [
        "#Subplot\n",
        "fig, ax = plt.subplots(1, 2, figsize=(10, 5))\n",
        "\n",
        "# Plotting accuracy on the first subplot\n",
        "ax[0].plot(history.history[\"accuracy\"], color=\"midnightblue\",label=\"Training accuracy\")\n",
        "ax[0].plot(history.history[\"val_accuracy\"], color=\"r\",label=\"Validation accuracy\")\n",
        "ax[0].set_title('Accuracy value accross epochs')\n",
        "ax[0].legend()\n",
        "\n",
        "# Plotting loss on the second subplot\n",
        "ax[1].plot(history.history[\"loss\"], color=\"midnightblue\",label=\"Training loss\")\n",
        "ax[1].plot(history.history[\"val_loss\"], color=\"r\",label=\"Validation loss\")\n",
        "ax[1].set_title(\"Loss value accross epochs\")\n",
        "ax[1].legend()\n",
        "\n",
        "#Labelling axis x\n",
        "for ax in ax:\n",
        "    ax.set(xlabel='Epochs')\n",
        "\n",
        "#Suptitle\n",
        "fig.suptitle('Learning Curves', fontsize=10)\n",
        "\n",
        "# Adjust layout and display the plot\n",
        "plt.tight_layout()\n",
        "plt.show()"
      ]
    },
    {
      "cell_type": "code",
      "execution_count": 28,
      "metadata": {},
      "outputs": [
        {
          "name": "stdout",
          "output_type": "stream",
          "text": [
            "35/35 [==============================] - 0s 601us/step\n"
          ]
        }
      ],
      "source": [
        "# 1. Prédiction des probabilités\n",
        "y_pred_proba = model_rnn.predict(X_test)\n",
        "\n",
        "# 2. Seuil de décision\n",
        "seuil = 0.5\n",
        "y_pred = (y_pred_proba > seuil).astype(\"int32\").flatten()\n",
        "\n",
        "\n"
      ]
    },
    {
      "cell_type": "code",
      "execution_count": 29,
      "metadata": {},
      "outputs": [
        {
          "data": {
            "application/vnd.plotly.v1+json": {
              "config": {
                "plotlyServerURL": "https://plot.ly"
              },
              "data": [
                {
                  "colorscale": [
                    [
                      0,
                      "rgb(247,251,255)"
                    ],
                    [
                      0.125,
                      "rgb(222,235,247)"
                    ],
                    [
                      0.25,
                      "rgb(198,219,239)"
                    ],
                    [
                      0.375,
                      "rgb(158,202,225)"
                    ],
                    [
                      0.5,
                      "rgb(107,174,214)"
                    ],
                    [
                      0.625,
                      "rgb(66,146,198)"
                    ],
                    [
                      0.75,
                      "rgb(33,113,181)"
                    ],
                    [
                      0.875,
                      "rgb(8,81,156)"
                    ],
                    [
                      1,
                      "rgb(8,48,107)"
                    ]
                  ],
                  "showscale": false,
                  "text": {
                    "bdata": "CQCNAL8DBgA=",
                    "dtype": "i2",
                    "shape": "2, 2"
                  },
                  "textfont": {
                    "size": 12
                  },
                  "texttemplate": "%{text}",
                  "type": "heatmap",
                  "x": [
                    "ham",
                    "spam"
                  ],
                  "xaxis": "x",
                  "y": [
                    "spam",
                    "ham"
                  ],
                  "yaxis": "y",
                  "z": {
                    "bdata": "CQCNAL8DBgA=",
                    "dtype": "i2",
                    "shape": "2, 2"
                  }
                },
                {
                  "cells": {
                    "values": [
                      [
                        "F1-score",
                        "Precision",
                        "Recall",
                        "Accuracy"
                      ],
                      [
                        0.949,
                        0.959,
                        0.94,
                        0.987
                      ]
                    ]
                  },
                  "domain": {
                    "x": [
                      0.41500000000000004,
                      1
                    ],
                    "y": [
                      0,
                      1
                    ]
                  },
                  "header": {
                    "fill": {
                      "color": "lightgrey"
                    },
                    "values": [
                      "Métrique",
                      "Valeur"
                    ]
                  },
                  "type": "table"
                }
              ],
              "layout": {
                "annotations": [
                  {
                    "font": {
                      "size": 16
                    },
                    "showarrow": false,
                    "text": "Matrice de Confusion (Test - RNN)",
                    "x": 0.1575,
                    "xanchor": "center",
                    "xref": "paper",
                    "y": 1,
                    "yanchor": "bottom",
                    "yref": "paper"
                  },
                  {
                    "font": {
                      "size": 16
                    },
                    "showarrow": false,
                    "text": "Métriques (Test - RNN)",
                    "x": 0.7075,
                    "xanchor": "center",
                    "xref": "paper",
                    "y": 1,
                    "yanchor": "bottom",
                    "yref": "paper"
                  }
                ],
                "height": 400,
                "shapes": [
                  {
                    "line": {
                      "color": "black",
                      "width": 2
                    },
                    "type": "rect",
                    "x0": -0.5,
                    "x1": 1.5,
                    "xref": "x",
                    "y0": -0.5,
                    "y1": 1.5,
                    "yref": "y"
                  }
                ],
                "template": {
                  "data": {
                    "bar": [
                      {
                        "error_x": {
                          "color": "#2a3f5f"
                        },
                        "error_y": {
                          "color": "#2a3f5f"
                        },
                        "marker": {
                          "line": {
                            "color": "#E5ECF6",
                            "width": 0.5
                          },
                          "pattern": {
                            "fillmode": "overlay",
                            "size": 10,
                            "solidity": 0.2
                          }
                        },
                        "type": "bar"
                      }
                    ],
                    "barpolar": [
                      {
                        "marker": {
                          "line": {
                            "color": "#E5ECF6",
                            "width": 0.5
                          },
                          "pattern": {
                            "fillmode": "overlay",
                            "size": 10,
                            "solidity": 0.2
                          }
                        },
                        "type": "barpolar"
                      }
                    ],
                    "carpet": [
                      {
                        "aaxis": {
                          "endlinecolor": "#2a3f5f",
                          "gridcolor": "white",
                          "linecolor": "white",
                          "minorgridcolor": "white",
                          "startlinecolor": "#2a3f5f"
                        },
                        "baxis": {
                          "endlinecolor": "#2a3f5f",
                          "gridcolor": "white",
                          "linecolor": "white",
                          "minorgridcolor": "white",
                          "startlinecolor": "#2a3f5f"
                        },
                        "type": "carpet"
                      }
                    ],
                    "choropleth": [
                      {
                        "colorbar": {
                          "outlinewidth": 0,
                          "ticks": ""
                        },
                        "type": "choropleth"
                      }
                    ],
                    "contour": [
                      {
                        "colorbar": {
                          "outlinewidth": 0,
                          "ticks": ""
                        },
                        "colorscale": [
                          [
                            0,
                            "#0d0887"
                          ],
                          [
                            0.1111111111111111,
                            "#46039f"
                          ],
                          [
                            0.2222222222222222,
                            "#7201a8"
                          ],
                          [
                            0.3333333333333333,
                            "#9c179e"
                          ],
                          [
                            0.4444444444444444,
                            "#bd3786"
                          ],
                          [
                            0.5555555555555556,
                            "#d8576b"
                          ],
                          [
                            0.6666666666666666,
                            "#ed7953"
                          ],
                          [
                            0.7777777777777778,
                            "#fb9f3a"
                          ],
                          [
                            0.8888888888888888,
                            "#fdca26"
                          ],
                          [
                            1,
                            "#f0f921"
                          ]
                        ],
                        "type": "contour"
                      }
                    ],
                    "contourcarpet": [
                      {
                        "colorbar": {
                          "outlinewidth": 0,
                          "ticks": ""
                        },
                        "type": "contourcarpet"
                      }
                    ],
                    "heatmap": [
                      {
                        "colorbar": {
                          "outlinewidth": 0,
                          "ticks": ""
                        },
                        "colorscale": [
                          [
                            0,
                            "#0d0887"
                          ],
                          [
                            0.1111111111111111,
                            "#46039f"
                          ],
                          [
                            0.2222222222222222,
                            "#7201a8"
                          ],
                          [
                            0.3333333333333333,
                            "#9c179e"
                          ],
                          [
                            0.4444444444444444,
                            "#bd3786"
                          ],
                          [
                            0.5555555555555556,
                            "#d8576b"
                          ],
                          [
                            0.6666666666666666,
                            "#ed7953"
                          ],
                          [
                            0.7777777777777778,
                            "#fb9f3a"
                          ],
                          [
                            0.8888888888888888,
                            "#fdca26"
                          ],
                          [
                            1,
                            "#f0f921"
                          ]
                        ],
                        "type": "heatmap"
                      }
                    ],
                    "histogram": [
                      {
                        "marker": {
                          "pattern": {
                            "fillmode": "overlay",
                            "size": 10,
                            "solidity": 0.2
                          }
                        },
                        "type": "histogram"
                      }
                    ],
                    "histogram2d": [
                      {
                        "colorbar": {
                          "outlinewidth": 0,
                          "ticks": ""
                        },
                        "colorscale": [
                          [
                            0,
                            "#0d0887"
                          ],
                          [
                            0.1111111111111111,
                            "#46039f"
                          ],
                          [
                            0.2222222222222222,
                            "#7201a8"
                          ],
                          [
                            0.3333333333333333,
                            "#9c179e"
                          ],
                          [
                            0.4444444444444444,
                            "#bd3786"
                          ],
                          [
                            0.5555555555555556,
                            "#d8576b"
                          ],
                          [
                            0.6666666666666666,
                            "#ed7953"
                          ],
                          [
                            0.7777777777777778,
                            "#fb9f3a"
                          ],
                          [
                            0.8888888888888888,
                            "#fdca26"
                          ],
                          [
                            1,
                            "#f0f921"
                          ]
                        ],
                        "type": "histogram2d"
                      }
                    ],
                    "histogram2dcontour": [
                      {
                        "colorbar": {
                          "outlinewidth": 0,
                          "ticks": ""
                        },
                        "colorscale": [
                          [
                            0,
                            "#0d0887"
                          ],
                          [
                            0.1111111111111111,
                            "#46039f"
                          ],
                          [
                            0.2222222222222222,
                            "#7201a8"
                          ],
                          [
                            0.3333333333333333,
                            "#9c179e"
                          ],
                          [
                            0.4444444444444444,
                            "#bd3786"
                          ],
                          [
                            0.5555555555555556,
                            "#d8576b"
                          ],
                          [
                            0.6666666666666666,
                            "#ed7953"
                          ],
                          [
                            0.7777777777777778,
                            "#fb9f3a"
                          ],
                          [
                            0.8888888888888888,
                            "#fdca26"
                          ],
                          [
                            1,
                            "#f0f921"
                          ]
                        ],
                        "type": "histogram2dcontour"
                      }
                    ],
                    "mesh3d": [
                      {
                        "colorbar": {
                          "outlinewidth": 0,
                          "ticks": ""
                        },
                        "type": "mesh3d"
                      }
                    ],
                    "parcoords": [
                      {
                        "line": {
                          "colorbar": {
                            "outlinewidth": 0,
                            "ticks": ""
                          }
                        },
                        "type": "parcoords"
                      }
                    ],
                    "pie": [
                      {
                        "automargin": true,
                        "type": "pie"
                      }
                    ],
                    "scatter": [
                      {
                        "fillpattern": {
                          "fillmode": "overlay",
                          "size": 10,
                          "solidity": 0.2
                        },
                        "type": "scatter"
                      }
                    ],
                    "scatter3d": [
                      {
                        "line": {
                          "colorbar": {
                            "outlinewidth": 0,
                            "ticks": ""
                          }
                        },
                        "marker": {
                          "colorbar": {
                            "outlinewidth": 0,
                            "ticks": ""
                          }
                        },
                        "type": "scatter3d"
                      }
                    ],
                    "scattercarpet": [
                      {
                        "marker": {
                          "colorbar": {
                            "outlinewidth": 0,
                            "ticks": ""
                          }
                        },
                        "type": "scattercarpet"
                      }
                    ],
                    "scattergeo": [
                      {
                        "marker": {
                          "colorbar": {
                            "outlinewidth": 0,
                            "ticks": ""
                          }
                        },
                        "type": "scattergeo"
                      }
                    ],
                    "scattergl": [
                      {
                        "marker": {
                          "colorbar": {
                            "outlinewidth": 0,
                            "ticks": ""
                          }
                        },
                        "type": "scattergl"
                      }
                    ],
                    "scattermap": [
                      {
                        "marker": {
                          "colorbar": {
                            "outlinewidth": 0,
                            "ticks": ""
                          }
                        },
                        "type": "scattermap"
                      }
                    ],
                    "scattermapbox": [
                      {
                        "marker": {
                          "colorbar": {
                            "outlinewidth": 0,
                            "ticks": ""
                          }
                        },
                        "type": "scattermapbox"
                      }
                    ],
                    "scatterpolar": [
                      {
                        "marker": {
                          "colorbar": {
                            "outlinewidth": 0,
                            "ticks": ""
                          }
                        },
                        "type": "scatterpolar"
                      }
                    ],
                    "scatterpolargl": [
                      {
                        "marker": {
                          "colorbar": {
                            "outlinewidth": 0,
                            "ticks": ""
                          }
                        },
                        "type": "scatterpolargl"
                      }
                    ],
                    "scatterternary": [
                      {
                        "marker": {
                          "colorbar": {
                            "outlinewidth": 0,
                            "ticks": ""
                          }
                        },
                        "type": "scatterternary"
                      }
                    ],
                    "surface": [
                      {
                        "colorbar": {
                          "outlinewidth": 0,
                          "ticks": ""
                        },
                        "colorscale": [
                          [
                            0,
                            "#0d0887"
                          ],
                          [
                            0.1111111111111111,
                            "#46039f"
                          ],
                          [
                            0.2222222222222222,
                            "#7201a8"
                          ],
                          [
                            0.3333333333333333,
                            "#9c179e"
                          ],
                          [
                            0.4444444444444444,
                            "#bd3786"
                          ],
                          [
                            0.5555555555555556,
                            "#d8576b"
                          ],
                          [
                            0.6666666666666666,
                            "#ed7953"
                          ],
                          [
                            0.7777777777777778,
                            "#fb9f3a"
                          ],
                          [
                            0.8888888888888888,
                            "#fdca26"
                          ],
                          [
                            1,
                            "#f0f921"
                          ]
                        ],
                        "type": "surface"
                      }
                    ],
                    "table": [
                      {
                        "cells": {
                          "fill": {
                            "color": "#EBF0F8"
                          },
                          "line": {
                            "color": "white"
                          }
                        },
                        "header": {
                          "fill": {
                            "color": "#C8D4E3"
                          },
                          "line": {
                            "color": "white"
                          }
                        },
                        "type": "table"
                      }
                    ]
                  },
                  "layout": {
                    "annotationdefaults": {
                      "arrowcolor": "#2a3f5f",
                      "arrowhead": 0,
                      "arrowwidth": 1
                    },
                    "autotypenumbers": "strict",
                    "coloraxis": {
                      "colorbar": {
                        "outlinewidth": 0,
                        "ticks": ""
                      }
                    },
                    "colorscale": {
                      "diverging": [
                        [
                          0,
                          "#8e0152"
                        ],
                        [
                          0.1,
                          "#c51b7d"
                        ],
                        [
                          0.2,
                          "#de77ae"
                        ],
                        [
                          0.3,
                          "#f1b6da"
                        ],
                        [
                          0.4,
                          "#fde0ef"
                        ],
                        [
                          0.5,
                          "#f7f7f7"
                        ],
                        [
                          0.6,
                          "#e6f5d0"
                        ],
                        [
                          0.7,
                          "#b8e186"
                        ],
                        [
                          0.8,
                          "#7fbc41"
                        ],
                        [
                          0.9,
                          "#4d9221"
                        ],
                        [
                          1,
                          "#276419"
                        ]
                      ],
                      "sequential": [
                        [
                          0,
                          "#0d0887"
                        ],
                        [
                          0.1111111111111111,
                          "#46039f"
                        ],
                        [
                          0.2222222222222222,
                          "#7201a8"
                        ],
                        [
                          0.3333333333333333,
                          "#9c179e"
                        ],
                        [
                          0.4444444444444444,
                          "#bd3786"
                        ],
                        [
                          0.5555555555555556,
                          "#d8576b"
                        ],
                        [
                          0.6666666666666666,
                          "#ed7953"
                        ],
                        [
                          0.7777777777777778,
                          "#fb9f3a"
                        ],
                        [
                          0.8888888888888888,
                          "#fdca26"
                        ],
                        [
                          1,
                          "#f0f921"
                        ]
                      ],
                      "sequentialminus": [
                        [
                          0,
                          "#0d0887"
                        ],
                        [
                          0.1111111111111111,
                          "#46039f"
                        ],
                        [
                          0.2222222222222222,
                          "#7201a8"
                        ],
                        [
                          0.3333333333333333,
                          "#9c179e"
                        ],
                        [
                          0.4444444444444444,
                          "#bd3786"
                        ],
                        [
                          0.5555555555555556,
                          "#d8576b"
                        ],
                        [
                          0.6666666666666666,
                          "#ed7953"
                        ],
                        [
                          0.7777777777777778,
                          "#fb9f3a"
                        ],
                        [
                          0.8888888888888888,
                          "#fdca26"
                        ],
                        [
                          1,
                          "#f0f921"
                        ]
                      ]
                    },
                    "colorway": [
                      "#636efa",
                      "#EF553B",
                      "#00cc96",
                      "#ab63fa",
                      "#FFA15A",
                      "#19d3f3",
                      "#FF6692",
                      "#B6E880",
                      "#FF97FF",
                      "#FECB52"
                    ],
                    "font": {
                      "color": "#2a3f5f"
                    },
                    "geo": {
                      "bgcolor": "white",
                      "lakecolor": "white",
                      "landcolor": "#E5ECF6",
                      "showlakes": true,
                      "showland": true,
                      "subunitcolor": "white"
                    },
                    "hoverlabel": {
                      "align": "left"
                    },
                    "hovermode": "closest",
                    "mapbox": {
                      "style": "light"
                    },
                    "paper_bgcolor": "white",
                    "plot_bgcolor": "#E5ECF6",
                    "polar": {
                      "angularaxis": {
                        "gridcolor": "white",
                        "linecolor": "white",
                        "ticks": ""
                      },
                      "bgcolor": "#E5ECF6",
                      "radialaxis": {
                        "gridcolor": "white",
                        "linecolor": "white",
                        "ticks": ""
                      }
                    },
                    "scene": {
                      "xaxis": {
                        "backgroundcolor": "#E5ECF6",
                        "gridcolor": "white",
                        "gridwidth": 2,
                        "linecolor": "white",
                        "showbackground": true,
                        "ticks": "",
                        "zerolinecolor": "white"
                      },
                      "yaxis": {
                        "backgroundcolor": "#E5ECF6",
                        "gridcolor": "white",
                        "gridwidth": 2,
                        "linecolor": "white",
                        "showbackground": true,
                        "ticks": "",
                        "zerolinecolor": "white"
                      },
                      "zaxis": {
                        "backgroundcolor": "#E5ECF6",
                        "gridcolor": "white",
                        "gridwidth": 2,
                        "linecolor": "white",
                        "showbackground": true,
                        "ticks": "",
                        "zerolinecolor": "white"
                      }
                    },
                    "shapedefaults": {
                      "line": {
                        "color": "#2a3f5f"
                      }
                    },
                    "ternary": {
                      "aaxis": {
                        "gridcolor": "white",
                        "linecolor": "white",
                        "ticks": ""
                      },
                      "baxis": {
                        "gridcolor": "white",
                        "linecolor": "white",
                        "ticks": ""
                      },
                      "bgcolor": "#E5ECF6",
                      "caxis": {
                        "gridcolor": "white",
                        "linecolor": "white",
                        "ticks": ""
                      }
                    },
                    "title": {
                      "x": 0.05
                    },
                    "xaxis": {
                      "automargin": true,
                      "gridcolor": "white",
                      "linecolor": "white",
                      "ticks": "",
                      "title": {
                        "standoff": 15
                      },
                      "zerolinecolor": "white",
                      "zerolinewidth": 2
                    },
                    "yaxis": {
                      "automargin": true,
                      "gridcolor": "white",
                      "linecolor": "white",
                      "ticks": "",
                      "title": {
                        "standoff": 15
                      },
                      "zerolinecolor": "white",
                      "zerolinewidth": 2
                    }
                  }
                },
                "title": {
                  "text": "Évaluation du RNN (Keras) sur les données de test"
                },
                "width": 800,
                "xaxis": {
                  "anchor": "y",
                  "domain": [
                    0,
                    0.315
                  ],
                  "title": {
                    "text": "Prédiction"
                  }
                },
                "yaxis": {
                  "anchor": "x",
                  "domain": [
                    0,
                    1
                  ],
                  "title": {
                    "text": "Réel"
                  }
                }
              }
            }
          },
          "metadata": {},
          "output_type": "display_data"
        }
      ],
      "source": [
        "# 1. Matrice de confusion\n",
        "cm_rnn = confusion_matrix(y_test, y_pred)\n",
        "df_cm_rnn = pd.DataFrame(cm_rnn, index=[\"ham\", \"spam\"], columns=[\"ham\", \"spam\"])\n",
        "df_cm_rnn = df_cm_rnn.iloc[::-1]  # Pour afficher \"ham\" en haut\n",
        "\n",
        "# 2. Métriques\n",
        "metrics_rnn = {\n",
        "    \"F1-score\": round(f1_score(y_test, y_pred), 3),\n",
        "    \"Precision\": round(precision_score(y_test, y_pred), 3),\n",
        "    \"Recall\": round(recall_score(y_test, y_pred), 3),\n",
        "    \"Accuracy\": round(accuracy_score(y_test, y_pred), 3)\n",
        "}\n",
        "\n",
        "# 3. Subplots\n",
        "fig = make_subplots(\n",
        "    rows=1, cols=2,\n",
        "    column_widths=[0.35, 0.65],\n",
        "    subplot_titles=(\"Matrice de Confusion (Test - RNN)\", \"Métriques (Test - RNN)\"),\n",
        "    specs=[[{\"type\": \"heatmap\"}, {\"type\": \"table\"}]]\n",
        ")\n",
        "\n",
        "# 4. Heatmap\n",
        "fig.add_trace(go.Heatmap(\n",
        "    z=df_cm_rnn.values,\n",
        "    x=df_cm_rnn.columns,\n",
        "    y=df_cm_rnn.index,\n",
        "    text=df_cm_rnn.values,\n",
        "    texttemplate=\"%{text}\",\n",
        "    textfont=dict(size=12),\n",
        "    colorscale='Blues',\n",
        "    showscale=False\n",
        "), row=1, col=1)\n",
        "\n",
        "# 5. Encadrer la heatmap\n",
        "fig.add_shape(\n",
        "    type=\"rect\",\n",
        "    x0=-0.5, x1=1.5,\n",
        "    y0=-0.5, y1=1.5,\n",
        "    line=dict(color=\"black\", width=2),\n",
        "    row=1, col=1\n",
        ")\n",
        "\n",
        "# 6. Table des métriques\n",
        "fig.add_trace(go.Table(\n",
        "    header=dict(values=[\"Métrique\", \"Valeur\"], fill_color=\"lightgrey\"),\n",
        "    cells=dict(values=[list(metrics_rnn.keys()), list(metrics_rnn.values())])\n",
        "), row=1, col=2)\n",
        "\n",
        "# 7. Axes\n",
        "fig.update_xaxes(title_text=\"Prédiction\", row=1, col=1)\n",
        "fig.update_yaxes(title_text=\"Réel\", row=1, col=1)\n",
        "\n",
        "# 8. Layout\n",
        "fig.update_layout(  title_text=\"Évaluation du RNN (Keras) sur les données de test\",\n",
        "                    height=400,\n",
        "                    width=800 )   \n",
        "\n",
        "fig.show()\n"
      ]
    },
    {
      "cell_type": "markdown",
      "metadata": {},
      "source": [
        "### 5- optimisation du seuil"
      ]
    },
    {
      "cell_type": "code",
      "execution_count": 30,
      "metadata": {},
      "outputs": [
        {
          "name": "stdout",
          "output_type": "stream",
          "text": [
            "35/35 [==============================] - 0s 564us/step\n"
          ]
        }
      ],
      "source": [
        "# Étape 1 : Prédictions probabilistes sur le jeu de test\n",
        "y_pred_proba = model_rnn.predict(X_test)\n"
      ]
    },
    {
      "cell_type": "code",
      "execution_count": 31,
      "metadata": {},
      "outputs": [],
      "source": [
        "seuils = np.arange(0.1, 0.91, 0.05)\n",
        "precision_list = []\n",
        "recall_list = []\n",
        "f1_list = []\n",
        "\n",
        "for seuil in seuils:\n",
        "    y_pred = (y_pred_proba > seuil).astype(\"int32\").flatten()\n",
        "    precision = precision_score(y_test, y_pred)\n",
        "    recall = recall_score(y_test, y_pred)\n",
        "    f1 = f1_score(y_test, y_pred)\n",
        "    \n",
        "    precision_list.append(precision)\n",
        "    recall_list.append(recall)\n",
        "    f1_list.append(f1)\n"
      ]
    },
    {
      "cell_type": "code",
      "execution_count": 32,
      "metadata": {},
      "outputs": [
        {
          "data": {
            "image/png": "[encoded data removed]",
            "text/plain": [
              "<Figure size 1000x600 with 1 Axes>"
            ]
          },
          "metadata": {},
          "output_type": "display_data"
        }
      ],
      "source": [
        "plt.figure(figsize=(10, 6))\n",
        "plt.plot(seuils, precision_list, label='Precision', marker='o')\n",
        "plt.plot(seuils, recall_list, label='Recall', marker='x')\n",
        "plt.plot(seuils, f1_list, label='F1-score', marker='s')\n",
        "\n",
        "plt.title('Évolution des métriques en fonction du seuil')\n",
        "plt.xlabel('Seuil de décision')\n",
        "plt.ylabel('Score')\n",
        "plt.legend()\n",
        "plt.grid(True)\n",
        "plt.show()\n"
      ]
    },
    {
      "cell_type": "code",
      "execution_count": 33,
      "metadata": {},
      "outputs": [
        {
          "name": "stdout",
          "output_type": "stream",
          "text": [
            "35/35 [==============================] - 0s 491us/step\n"
          ]
        }
      ],
      "source": [
        "# 1. Prédiction des probabilités\n",
        "y_pred_proba = model_rnn.predict(X_test)\n",
        "\n",
        "# 2. Seuil de décision\n",
        "seuil = 0.6\n",
        "y_pred = (y_pred_proba > seuil).astype(\"int32\").flatten()"
      ]
    },
    {
      "cell_type": "code",
      "execution_count": 34,
      "metadata": {},
      "outputs": [
        {
          "data": {
            "application/vnd.plotly.v1+json": {
              "config": {
                "plotlyServerURL": "https://plot.ly"
              },
              "data": [
                {
                  "colorscale": [
                    [
                      0,
                      "rgb(247,251,255)"
                    ],
                    [
                      0.125,
                      "rgb(222,235,247)"
                    ],
                    [
                      0.25,
                      "rgb(198,219,239)"
                    ],
                    [
                      0.375,
                      "rgb(158,202,225)"
                    ],
                    [
                      0.5,
                      "rgb(107,174,214)"
                    ],
                    [
                      0.625,
                      "rgb(66,146,198)"
                    ],
                    [
                      0.75,
                      "rgb(33,113,181)"
                    ],
                    [
                      0.875,
                      "rgb(8,81,156)"
                    ],
                    [
                      1,
                      "rgb(8,48,107)"
                    ]
                  ],
                  "showscale": false,
                  "text": {
                    "bdata": "CQCNAMADBQA=",
                    "dtype": "i2",
                    "shape": "2, 2"
                  },
                  "textfont": {
                    "size": 12
                  },
                  "texttemplate": "%{text}",
                  "type": "heatmap",
                  "x": [
                    "ham",
                    "spam"
                  ],
                  "xaxis": "x",
                  "y": [
                    "spam",
                    "ham"
                  ],
                  "yaxis": "y",
                  "z": {
                    "bdata": "CQCNAMADBQA=",
                    "dtype": "i2",
                    "shape": "2, 2"
                  }
                },
                {
                  "cells": {
                    "values": [
                      [
                        "F1-score",
                        "Precision",
                        "Recall",
                        "Accuracy"
                      ],
                      [
                        0.953,
                        0.966,
                        0.94,
                        0.987
                      ]
                    ]
                  },
                  "domain": {
                    "x": [
                      0.41500000000000004,
                      1
                    ],
                    "y": [
                      0,
                      1
                    ]
                  },
                  "header": {
                    "fill": {
                      "color": "lightgrey"
                    },
                    "values": [
                      "Métrique",
                      "Valeur"
                    ]
                  },
                  "type": "table"
                }
              ],
              "layout": {
                "annotations": [
                  {
                    "font": {
                      "size": 16
                    },
                    "showarrow": false,
                    "text": "Matrice de Confusion (Test - RNN)",
                    "x": 0.1575,
                    "xanchor": "center",
                    "xref": "paper",
                    "y": 1,
                    "yanchor": "bottom",
                    "yref": "paper"
                  },
                  {
                    "font": {
                      "size": 16
                    },
                    "showarrow": false,
                    "text": "Métriques (Test - RNN)",
                    "x": 0.7075,
                    "xanchor": "center",
                    "xref": "paper",
                    "y": 1,
                    "yanchor": "bottom",
                    "yref": "paper"
                  }
                ],
                "height": 400,
                "shapes": [
                  {
                    "line": {
                      "color": "black",
                      "width": 2
                    },
                    "type": "rect",
                    "x0": -0.5,
                    "x1": 1.5,
                    "xref": "x",
                    "y0": -0.5,
                    "y1": 1.5,
                    "yref": "y"
                  }
                ],
                "template": {
                  "data": {
                    "bar": [
                      {
                        "error_x": {
                          "color": "#2a3f5f"
                        },
                        "error_y": {
                          "color": "#2a3f5f"
                        },
                        "marker": {
                          "line": {
                            "color": "#E5ECF6",
                            "width": 0.5
                          },
                          "pattern": {
                            "fillmode": "overlay",
                            "size": 10,
                            "solidity": 0.2
                          }
                        },
                        "type": "bar"
                      }
                    ],
                    "barpolar": [
                      {
                        "marker": {
                          "line": {
                            "color": "#E5ECF6",
                            "width": 0.5
                          },
                          "pattern": {
                            "fillmode": "overlay",
                            "size": 10,
                            "solidity": 0.2
                          }
                        },
                        "type": "barpolar"
                      }
                    ],
                    "carpet": [
                      {
                        "aaxis": {
                          "endlinecolor": "#2a3f5f",
                          "gridcolor": "white",
                          "linecolor": "white",
                          "minorgridcolor": "white",
                          "startlinecolor": "#2a3f5f"
                        },
                        "baxis": {
                          "endlinecolor": "#2a3f5f",
                          "gridcolor": "white",
                          "linecolor": "white",
                          "minorgridcolor": "white",
                          "startlinecolor": "#2a3f5f"
                        },
                        "type": "carpet"
                      }
                    ],
                    "choropleth": [
                      {
                        "colorbar": {
                          "outlinewidth": 0,
                          "ticks": ""
                        },
                        "type": "choropleth"
                      }
                    ],
                    "contour": [
                      {
                        "colorbar": {
                          "outlinewidth": 0,
                          "ticks": ""
                        },
                        "colorscale": [
                          [
                            0,
                            "#0d0887"
                          ],
                          [
                            0.1111111111111111,
                            "#46039f"
                          ],
                          [
                            0.2222222222222222,
                            "#7201a8"
                          ],
                          [
                            0.3333333333333333,
                            "#9c179e"
                          ],
                          [
                            0.4444444444444444,
                            "#bd3786"
                          ],
                          [
                            0.5555555555555556,
                            "#d8576b"
                          ],
                          [
                            0.6666666666666666,
                            "#ed7953"
                          ],
                          [
                            0.7777777777777778,
                            "#fb9f3a"
                          ],
                          [
                            0.8888888888888888,
                            "#fdca26"
                          ],
                          [
                            1,
                            "#f0f921"
                          ]
                        ],
                        "type": "contour"
                      }
                    ],
                    "contourcarpet": [
                      {
                        "colorbar": {
                          "outlinewidth": 0,
                          "ticks": ""
                        },
                        "type": "contourcarpet"
                      }
                    ],
                    "heatmap": [
                      {
                        "colorbar": {
                          "outlinewidth": 0,
                          "ticks": ""
                        },
                        "colorscale": [
                          [
                            0,
                            "#0d0887"
                          ],
                          [
                            0.1111111111111111,
                            "#46039f"
                          ],
                          [
                            0.2222222222222222,
                            "#7201a8"
                          ],
                          [
                            0.3333333333333333,
                            "#9c179e"
                          ],
                          [
                            0.4444444444444444,
                            "#bd3786"
                          ],
                          [
                            0.5555555555555556,
                            "#d8576b"
                          ],
                          [
                            0.6666666666666666,
                            "#ed7953"
                          ],
                          [
                            0.7777777777777778,
                            "#fb9f3a"
                          ],
                          [
                            0.8888888888888888,
                            "#fdca26"
                          ],
                          [
                            1,
                            "#f0f921"
                          ]
                        ],
                        "type": "heatmap"
                      }
                    ],
                    "histogram": [
                      {
                        "marker": {
                          "pattern": {
                            "fillmode": "overlay",
                            "size": 10,
                            "solidity": 0.2
                          }
                        },
                        "type": "histogram"
                      }
                    ],
                    "histogram2d": [
                      {
                        "colorbar": {
                          "outlinewidth": 0,
                          "ticks": ""
                        },
                        "colorscale": [
                          [
                            0,
                            "#0d0887"
                          ],
                          [
                            0.1111111111111111,
                            "#46039f"
                          ],
                          [
                            0.2222222222222222,
                            "#7201a8"
                          ],
                          [
                            0.3333333333333333,
                            "#9c179e"
                          ],
                          [
                            0.4444444444444444,
                            "#bd3786"
                          ],
                          [
                            0.5555555555555556,
                            "#d8576b"
                          ],
                          [
                            0.6666666666666666,
                            "#ed7953"
                          ],
                          [
                            0.7777777777777778,
                            "#fb9f3a"
                          ],
                          [
                            0.8888888888888888,
                            "#fdca26"
                          ],
                          [
                            1,
                            "#f0f921"
                          ]
                        ],
                        "type": "histogram2d"
                      }
                    ],
                    "histogram2dcontour": [
                      {
                        "colorbar": {
                          "outlinewidth": 0,
                          "ticks": ""
                        },
                        "colorscale": [
                          [
                            0,
                            "#0d0887"
                          ],
                          [
                            0.1111111111111111,
                            "#46039f"
                          ],
                          [
                            0.2222222222222222,
                            "#7201a8"
                          ],
                          [
                            0.3333333333333333,
                            "#9c179e"
                          ],
                          [
                            0.4444444444444444,
                            "#bd3786"
                          ],
                          [
                            0.5555555555555556,
                            "#d8576b"
                          ],
                          [
                            0.6666666666666666,
                            "#ed7953"
                          ],
                          [
                            0.7777777777777778,
                            "#fb9f3a"
                          ],
                          [
                            0.8888888888888888,
                            "#fdca26"
                          ],
                          [
                            1,
                            "#f0f921"
                          ]
                        ],
                        "type": "histogram2dcontour"
                      }
                    ],
                    "mesh3d": [
                      {
                        "colorbar": {
                          "outlinewidth": 0,
                          "ticks": ""
                        },
                        "type": "mesh3d"
                      }
                    ],
                    "parcoords": [
                      {
                        "line": {
                          "colorbar": {
                            "outlinewidth": 0,
                            "ticks": ""
                          }
                        },
                        "type": "parcoords"
                      }
                    ],
                    "pie": [
                      {
                        "automargin": true,
                        "type": "pie"
                      }
                    ],
                    "scatter": [
                      {
                        "fillpattern": {
                          "fillmode": "overlay",
                          "size": 10,
                          "solidity": 0.2
                        },
                        "type": "scatter"
                      }
                    ],
                    "scatter3d": [
                      {
                        "line": {
                          "colorbar": {
                            "outlinewidth": 0,
                            "ticks": ""
                          }
                        },
                        "marker": {
                          "colorbar": {
                            "outlinewidth": 0,
                            "ticks": ""
                          }
                        },
                        "type": "scatter3d"
                      }
                    ],
                    "scattercarpet": [
                      {
                        "marker": {
                          "colorbar": {
                            "outlinewidth": 0,
                            "ticks": ""
                          }
                        },
                        "type": "scattercarpet"
                      }
                    ],
                    "scattergeo": [
                      {
                        "marker": {
                          "colorbar": {
                            "outlinewidth": 0,
                            "ticks": ""
                          }
                        },
                        "type": "scattergeo"
                      }
                    ],
                    "scattergl": [
                      {
                        "marker": {
                          "colorbar": {
                            "outlinewidth": 0,
                            "ticks": ""
                          }
                        },
                        "type": "scattergl"
                      }
                    ],
                    "scattermap": [
                      {
                        "marker": {
                          "colorbar": {
                            "outlinewidth": 0,
                            "ticks": ""
                          }
                        },
                        "type": "scattermap"
                      }
                    ],
                    "scattermapbox": [
                      {
                        "marker": {
                          "colorbar": {
                            "outlinewidth": 0,
                            "ticks": ""
                          }
                        },
                        "type": "scattermapbox"
                      }
                    ],
                    "scatterpolar": [
                      {
                        "marker": {
                          "colorbar": {
                            "outlinewidth": 0,
                            "ticks": ""
                          }
                        },
                        "type": "scatterpolar"
                      }
                    ],
                    "scatterpolargl": [
                      {
                        "marker": {
                          "colorbar": {
                            "outlinewidth": 0,
                            "ticks": ""
                          }
                        },
                        "type": "scatterpolargl"
                      }
                    ],
                    "scatterternary": [
                      {
                        "marker": {
                          "colorbar": {
                            "outlinewidth": 0,
                            "ticks": ""
                          }
                        },
                        "type": "scatterternary"
                      }
                    ],
                    "surface": [
                      {
                        "colorbar": {
                          "outlinewidth": 0,
                          "ticks": ""
                        },
                        "colorscale": [
                          [
                            0,
                            "#0d0887"
                          ],
                          [
                            0.1111111111111111,
                            "#46039f"
                          ],
                          [
                            0.2222222222222222,
                            "#7201a8"
                          ],
                          [
                            0.3333333333333333,
                            "#9c179e"
                          ],
                          [
                            0.4444444444444444,
                            "#bd3786"
                          ],
                          [
                            0.5555555555555556,
                            "#d8576b"
                          ],
                          [
                            0.6666666666666666,
                            "#ed7953"
                          ],
                          [
                            0.7777777777777778,
                            "#fb9f3a"
                          ],
                          [
                            0.8888888888888888,
                            "#fdca26"
                          ],
                          [
                            1,
                            "#f0f921"
                          ]
                        ],
                        "type": "surface"
                      }
                    ],
                    "table": [
                      {
                        "cells": {
                          "fill": {
                            "color": "#EBF0F8"
                          },
                          "line": {
                            "color": "white"
                          }
                        },
                        "header": {
                          "fill": {
                            "color": "#C8D4E3"
                          },
                          "line": {
                            "color": "white"
                          }
                        },
                        "type": "table"
                      }
                    ]
                  },
                  "layout": {
                    "annotationdefaults": {
                      "arrowcolor": "#2a3f5f",
                      "arrowhead": 0,
                      "arrowwidth": 1
                    },
                    "autotypenumbers": "strict",
                    "coloraxis": {
                      "colorbar": {
                        "outlinewidth": 0,
                        "ticks": ""
                      }
                    },
                    "colorscale": {
                      "diverging": [
                        [
                          0,
                          "#8e0152"
                        ],
                        [
                          0.1,
                          "#c51b7d"
                        ],
                        [
                          0.2,
                          "#de77ae"
                        ],
                        [
                          0.3,
                          "#f1b6da"
                        ],
                        [
                          0.4,
                          "#fde0ef"
                        ],
                        [
                          0.5,
                          "#f7f7f7"
                        ],
                        [
                          0.6,
                          "#e6f5d0"
                        ],
                        [
                          0.7,
                          "#b8e186"
                        ],
                        [
                          0.8,
                          "#7fbc41"
                        ],
                        [
                          0.9,
                          "#4d9221"
                        ],
                        [
                          1,
                          "#276419"
                        ]
                      ],
                      "sequential": [
                        [
                          0,
                          "#0d0887"
                        ],
                        [
                          0.1111111111111111,
                          "#46039f"
                        ],
                        [
                          0.2222222222222222,
                          "#7201a8"
                        ],
                        [
                          0.3333333333333333,
                          "#9c179e"
                        ],
                        [
                          0.4444444444444444,
                          "#bd3786"
                        ],
                        [
                          0.5555555555555556,
                          "#d8576b"
                        ],
                        [
                          0.6666666666666666,
                          "#ed7953"
                        ],
                        [
                          0.7777777777777778,
                          "#fb9f3a"
                        ],
                        [
                          0.8888888888888888,
                          "#fdca26"
                        ],
                        [
                          1,
                          "#f0f921"
                        ]
                      ],
                      "sequentialminus": [
                        [
                          0,
                          "#0d0887"
                        ],
                        [
                          0.1111111111111111,
                          "#46039f"
                        ],
                        [
                          0.2222222222222222,
                          "#7201a8"
                        ],
                        [
                          0.3333333333333333,
                          "#9c179e"
                        ],
                        [
                          0.4444444444444444,
                          "#bd3786"
                        ],
                        [
                          0.5555555555555556,
                          "#d8576b"
                        ],
                        [
                          0.6666666666666666,
                          "#ed7953"
                        ],
                        [
                          0.7777777777777778,
                          "#fb9f3a"
                        ],
                        [
                          0.8888888888888888,
                          "#fdca26"
                        ],
                        [
                          1,
                          "#f0f921"
                        ]
                      ]
                    },
                    "colorway": [
                      "#636efa",
                      "#EF553B",
                      "#00cc96",
                      "#ab63fa",
                      "#FFA15A",
                      "#19d3f3",
                      "#FF6692",
                      "#B6E880",
                      "#FF97FF",
                      "#FECB52"
                    ],
                    "font": {
                      "color": "#2a3f5f"
                    },
                    "geo": {
                      "bgcolor": "white",
                      "lakecolor": "white",
                      "landcolor": "#E5ECF6",
                      "showlakes": true,
                      "showland": true,
                      "subunitcolor": "white"
                    },
                    "hoverlabel": {
                      "align": "left"
                    },
                    "hovermode": "closest",
                    "mapbox": {
                      "style": "light"
                    },
                    "paper_bgcolor": "white",
                    "plot_bgcolor": "#E5ECF6",
                    "polar": {
                      "angularaxis": {
                        "gridcolor": "white",
                        "linecolor": "white",
                        "ticks": ""
                      },
                      "bgcolor": "#E5ECF6",
                      "radialaxis": {
                        "gridcolor": "white",
                        "linecolor": "white",
                        "ticks": ""
                      }
                    },
                    "scene": {
                      "xaxis": {
                        "backgroundcolor": "#E5ECF6",
                        "gridcolor": "white",
                        "gridwidth": 2,
                        "linecolor": "white",
                        "showbackground": true,
                        "ticks": "",
                        "zerolinecolor": "white"
                      },
                      "yaxis": {
                        "backgroundcolor": "#E5ECF6",
                        "gridcolor": "white",
                        "gridwidth": 2,
                        "linecolor": "white",
                        "showbackground": true,
                        "ticks": "",
                        "zerolinecolor": "white"
                      },
                      "zaxis": {
                        "backgroundcolor": "#E5ECF6",
                        "gridcolor": "white",
                        "gridwidth": 2,
                        "linecolor": "white",
                        "showbackground": true,
                        "ticks": "",
                        "zerolinecolor": "white"
                      }
                    },
                    "shapedefaults": {
                      "line": {
                        "color": "#2a3f5f"
                      }
                    },
                    "ternary": {
                      "aaxis": {
                        "gridcolor": "white",
                        "linecolor": "white",
                        "ticks": ""
                      },
                      "baxis": {
                        "gridcolor": "white",
                        "linecolor": "white",
                        "ticks": ""
                      },
                      "bgcolor": "#E5ECF6",
                      "caxis": {
                        "gridcolor": "white",
                        "linecolor": "white",
                        "ticks": ""
                      }
                    },
                    "title": {
                      "x": 0.05
                    },
                    "xaxis": {
                      "automargin": true,
                      "gridcolor": "white",
                      "linecolor": "white",
                      "ticks": "",
                      "title": {
                        "standoff": 15
                      },
                      "zerolinecolor": "white",
                      "zerolinewidth": 2
                    },
                    "yaxis": {
                      "automargin": true,
                      "gridcolor": "white",
                      "linecolor": "white",
                      "ticks": "",
                      "title": {
                        "standoff": 15
                      },
                      "zerolinecolor": "white",
                      "zerolinewidth": 2
                    }
                  }
                },
                "title": {
                  "text": "Évaluation du RNN (Keras) sur les données de test"
                },
                "width": 800,
                "xaxis": {
                  "anchor": "y",
                  "domain": [
                    0,
                    0.315
                  ],
                  "title": {
                    "text": "Prédiction"
                  }
                },
                "yaxis": {
                  "anchor": "x",
                  "domain": [
                    0,
                    1
                  ],
                  "title": {
                    "text": "Réel"
                  }
                }
              }
            }
          },
          "metadata": {},
          "output_type": "display_data"
        }
      ],
      "source": [
        "# 1. Matrice de confusion\n",
        "cm_rnn = confusion_matrix(y_test, y_pred)\n",
        "df_cm_rnn = pd.DataFrame(cm_rnn, index=[\"ham\", \"spam\"], columns=[\"ham\", \"spam\"])\n",
        "df_cm_rnn = df_cm_rnn.iloc[::-1]  # Pour afficher \"ham\" en haut\n",
        "\n",
        "# 2. Métriques\n",
        "metrics_rnn = {\n",
        "    \"F1-score\": round(f1_score(y_test, y_pred), 3),\n",
        "    \"Precision\": round(precision_score(y_test, y_pred), 3),\n",
        "    \"Recall\": round(recall_score(y_test, y_pred), 3),\n",
        "    \"Accuracy\": round(accuracy_score(y_test, y_pred), 3)\n",
        "}\n",
        "\n",
        "# 3. Subplots\n",
        "fig = make_subplots(\n",
        "    rows=1, cols=2,\n",
        "    column_widths=[0.35, 0.65],\n",
        "    subplot_titles=(\"Matrice de Confusion (Test - RNN)\", \"Métriques (Test - RNN)\"),\n",
        "    specs=[[{\"type\": \"heatmap\"}, {\"type\": \"table\"}]]\n",
        ")\n",
        "\n",
        "# 4. Heatmap\n",
        "fig.add_trace(go.Heatmap(\n",
        "    z=df_cm_rnn.values,\n",
        "    x=df_cm_rnn.columns,\n",
        "    y=df_cm_rnn.index,\n",
        "    text=df_cm_rnn.values,\n",
        "    texttemplate=\"%{text}\",\n",
        "    textfont=dict(size=12),\n",
        "    colorscale='Blues',\n",
        "    showscale=False\n",
        "), row=1, col=1)\n",
        "\n",
        "# 5. Encadrer la heatmap\n",
        "fig.add_shape(\n",
        "    type=\"rect\",\n",
        "    x0=-0.5, x1=1.5,\n",
        "    y0=-0.5, y1=1.5,\n",
        "    line=dict(color=\"black\", width=2),\n",
        "    row=1, col=1\n",
        ")\n",
        "\n",
        "# 6. Table des métriques\n",
        "fig.add_trace(go.Table(\n",
        "    header=dict(values=[\"Métrique\", \"Valeur\"], fill_color=\"lightgrey\"),\n",
        "    cells=dict(values=[list(metrics_rnn.keys()), list(metrics_rnn.values())])\n",
        "), row=1, col=2)\n",
        "\n",
        "# 7. Axes\n",
        "fig.update_xaxes(title_text=\"Prédiction\", row=1, col=1)\n",
        "fig.update_yaxes(title_text=\"Réel\", row=1, col=1)\n",
        "\n",
        "# 8. Layout\n",
        "fig.update_layout(\n",
        "    title_text=\"Évaluation du RNN (Keras) sur les données de test\",\n",
        "    height=400,\n",
        "    width=800\n",
        ")\n",
        "\n",
        "fig.show()\n"
      ]
    },
    {
      "cell_type": "markdown",
      "metadata": {},
      "source": [
        "## Transfert learning with BERT"
      ]
    },
    {
      "cell_type": "markdown",
      "metadata": {},
      "source": [
        "### 1- Parametrage & data"
      ]
    },
    {
      "cell_type": "code",
      "execution_count": 35,
      "metadata": {},
      "outputs": [],
      "source": [
        "# 🔧 Paramètres\n",
        "BATCH_SIZE = 32\n",
        "NUM_WORDS = 7000\n",
        "EPOCHS = 10\n",
        "SEQUENCE_LENGTH = 130\n",
        "PRESET = \"distil_bert_base_en_uncased\"\n",
        "SEED = 42"
      ]
    },
    {
      "cell_type": "code",
      "execution_count": 36,
      "metadata": {},
      "outputs": [],
      "source": [
        "# 💾 Préparation des données\n",
        "df_bert = dataset[['spam_clean', 'spam']].copy()\n",
        "df_bert = df_bert.rename(columns={'spam_clean': 'text', 'spam': 'label'})\n",
        "df_bert['text'] = df_bert['text'].astype(str)"
      ]
    },
    {
      "cell_type": "markdown",
      "metadata": {},
      "source": [
        "### 2- test val split"
      ]
    },
    {
      "cell_type": "code",
      "execution_count": 37,
      "metadata": {},
      "outputs": [],
      "source": [
        "# Split stratifié\n",
        "X_train, X_test, y_train, y_test = train_test_split(df_bert[\"text\"], df_bert[\"label\"],\n",
        "                                                    test_size=0.2, stratify=df_bert[\"label\"], random_state=SEED)\n",
        "X_train, X_val, y_train, y_val = train_test_split(X_train, y_train,\n",
        "                                                  test_size=0.25, stratify=y_train, random_state=SEED)  # 60/20/20"
      ]
    },
    {
      "cell_type": "markdown",
      "metadata": {},
      "source": [
        "### 3- Preprocessing & model"
      ]
    },
    {
      "cell_type": "code",
      "execution_count": 38,
      "metadata": {},
      "outputs": [],
      "source": [
        "# Prétraitement\n",
        "preprocessor = keras_nlp.models.DistilBertPreprocessor.from_preset(PRESET, sequence_length=SEQUENCE_LENGTH)\n",
        "backbone = keras_nlp.models.DistilBertBackbone.from_preset(PRESET)"
      ]
    },
    {
      "cell_type": "code",
      "execution_count": 39,
      "metadata": {},
      "outputs": [],
      "source": [
        "# 🔨 Construction du modèle \n",
        "def build_distilbert_model():\n",
        "    inputs = keras.Input(shape=(), dtype=tf.string, name=\"text\")\n",
        "    x = preprocessor(inputs)\n",
        "    x = backbone(x)  # shape = (batch_size, seq_len, 768)\n",
        "    x = layers.GlobalAveragePooling1D()(x)\n",
        "    x = layers.Dropout(0.1)(x)\n",
        "    outputs = layers.Dense(1, activation='sigmoid')(x)\n",
        "    return keras.Model(inputs, outputs)\n",
        "\n",
        "model = build_distilbert_model()"
      ]
    },
    {
      "cell_type": "code",
      "execution_count": 40,
      "metadata": {},
      "outputs": [],
      "source": [
        "# Compilation\n",
        "model.compile(\n",
        "    optimizer=keras.optimizers.Adam(learning_rate=2e-5),\n",
        "    loss=\"binary_crossentropy\",\n",
        "    metrics=[\"accuracy\", keras.metrics.Recall(), keras.metrics.Precision()]\n",
        ")"
      ]
    },
    {
      "cell_type": "code",
      "execution_count": 47,
      "metadata": {},
      "outputs": [
        {
          "name": "stdout",
          "output_type": "stream",
          "text": [
            "Model: \"model\"\n",
            "__________________________________________________________________________________________________\n",
            " Layer (type)                   Output Shape         Param #     Connected to                     \n",
            "==================================================================================================\n",
            " text (InputLayer)              [(None,)]            0           []                               \n",
            "                                                                                                  \n",
            " distil_bert_preprocessor (Dist  {'token_ids': (None  0          ['text[0][0]']                   \n",
            " ilBertPreprocessor)            , 130),                                                           \n",
            "                                 'padding_mask': (N                                               \n",
            "                                one, 130)}                                                        \n",
            "                                                                                                  \n",
            " distil_bert_backbone (DistilBe  (None, None, 768)   66362880    ['distil_bert_preprocessor[0][0]'\n",
            " rtBackbone)                                                     , 'distil_bert_preprocessor[0][1]\n",
            "                                                                 ']                               \n",
            "                                                                                                  \n",
            " global_average_pooling1d_1 (Gl  (None, 768)         0           ['distil_bert_backbone[0][0]']   \n",
            " obalAveragePooling1D)                                                                            \n",
            "                                                                                                  \n",
            " dropout (Dropout)              (None, 768)          0           ['global_average_pooling1d_1[0][0\n",
            "                                                                 ]']                              \n",
            "                                                                                                  \n",
            " dense_2 (Dense)                (None, 1)            769         ['dropout[0][0]']                \n",
            "                                                                                                  \n",
            "==================================================================================================\n",
            "Total params: 66,363,649\n",
            "Trainable params: 66,363,649\n",
            "Non-trainable params: 0\n",
            "__________________________________________________________________________________________________\n"
          ]
        }
      ],
      "source": [
        "model.summary()"
      ]
    },
    {
      "cell_type": "code",
      "execution_count": 41,
      "metadata": {},
      "outputs": [],
      "source": [
        "# Datasets TensorFlow\n",
        "def to_dataset(texts, labels):\n",
        "    ds = tf.data.Dataset.from_tensor_slices((texts, labels))\n",
        "    return ds.shuffle(1000, seed=SEED).batch(BATCH_SIZE).prefetch(tf.data.AUTOTUNE)\n",
        "\n",
        "train_ds = to_dataset(X_train.to_numpy(), y_train.to_numpy())\n",
        "val_ds   = to_dataset(X_val.to_numpy(), y_val.to_numpy())\n",
        "test_ds  = to_dataset(X_test.to_numpy(), y_test.to_numpy())"
      ]
    },
    {
      "cell_type": "markdown",
      "metadata": {},
      "source": [
        "### 5- Entrainement"
      ]
    },
    {
      "cell_type": "code",
      "execution_count": 42,
      "metadata": {},
      "outputs": [
        {
          "name": "stdout",
          "output_type": "stream",
          "text": [
            "Epoch 1/10\n",
            "105/105 [==============================] - 410s 4s/step - loss: 0.1023 - accuracy: 0.9551 - recall: 0.7679 - precision: 0.8821 - val_loss: 0.0792 - val_accuracy: 0.9776 - val_recall: 0.8867 - val_precision: 0.9433\n",
            "Epoch 2/10\n",
            "105/105 [==============================] - 404s 4s/step - loss: 0.0288 - accuracy: 0.9925 - recall: 0.9621 - precision: 0.9818 - val_loss: 0.0796 - val_accuracy: 0.9749 - val_recall: 0.8867 - val_precision: 0.9236\n",
            "Epoch 3/10\n",
            "105/105 [==============================] - 397s 4s/step - loss: 0.0178 - accuracy: 0.9952 - recall: 0.9732 - precision: 0.9909 - val_loss: 0.0635 - val_accuracy: 0.9812 - val_recall: 0.9133 - val_precision: 0.9448\n",
            "Epoch 4/10\n",
            "105/105 [==============================] - 397s 4s/step - loss: 0.0074 - accuracy: 0.9982 - recall: 0.9911 - precision: 0.9955 - val_loss: 0.0791 - val_accuracy: 0.9821 - val_recall: 0.9000 - val_precision: 0.9643\n",
            "Epoch 5/10\n",
            "105/105 [==============================] - 391s 4s/step - loss: 0.0030 - accuracy: 0.9997 - recall: 0.9978 - precision: 1.0000 - val_loss: 0.0887 - val_accuracy: 0.9821 - val_recall: 0.8933 - val_precision: 0.9710\n"
          ]
        },
        {
          "data": {
            "text/plain": [
              "<keras.callbacks.History at 0x253aa80ff10>"
            ]
          },
          "execution_count": 42,
          "metadata": {},
          "output_type": "execute_result"
        }
      ],
      "source": [
        "# Entraînement\n",
        "early_stop = keras.callbacks.EarlyStopping(monitor=\"val_loss\", patience=2, restore_best_weights=True)\n",
        "model.fit(train_ds, validation_data=val_ds, epochs=EPOCHS, callbacks=[early_stop], verbose=1)"
      ]
    },
    {
      "cell_type": "markdown",
      "metadata": {},
      "source": [
        "### 6- Evaluation"
      ]
    },
    {
      "cell_type": "code",
      "execution_count": 43,
      "metadata": {},
      "outputs": [
        {
          "name": "stdout",
          "output_type": "stream",
          "text": [
            "35/35 [==============================] - 38s 1s/step - loss: 0.0509 - accuracy: 0.9883 - recall: 0.9396 - precision: 0.9722\n",
            "\n",
            "✅ Accuracy: 0.9883 | Recall: 0.9396 | Precision: 0.9722 | Loss: 0.0509\n",
            "35/35 [==============================] - 38s 1s/step\n",
            "\n",
            "📋 Classification Report :\n",
            "              precision    recall  f1-score   support\n",
            "\n",
            "         Ham       0.99      1.00      0.99       966\n",
            "        Spam       0.97      0.94      0.96       149\n",
            "\n",
            "    accuracy                           0.99      1115\n",
            "   macro avg       0.98      0.97      0.97      1115\n",
            "weighted avg       0.99      0.99      0.99      1115\n",
            "\n",
            "🎯 F1 Score : 0.9556313993174061\n"
          ]
        },
        {
          "data": {
            "image/png": "[encoded data removed]",
            "text/plain": [
              "<Figure size 640x480 with 2 Axes>"
            ]
          },
          "metadata": {},
          "output_type": "display_data"
        }
      ],
      "source": [
        "# 🧪 Évaluation sur test\n",
        "loss, acc, recall, precision = model.evaluate(test_ds, verbose=1)\n",
        "print(f\"\\n✅ Accuracy: {acc:.4f} | Recall: {recall:.4f} | Precision: {precision:.4f} | Loss: {loss:.4f}\")\n",
        "\n",
        "# 📊 Rapport de classification\n",
        "y_pred_probs = model.predict(X_test.to_numpy())\n",
        "y_pred = np.where(y_pred_probs < 0.5, 0, 1)\n",
        "print(\"\\n📋 Classification Report :\")\n",
        "print(classification_report(y_test, y_pred, target_names=[\"Ham\", \"Spam\"]))\n",
        "print(\"🎯 F1 Score :\", f1_score(y_test, y_pred))\n",
        "\n",
        "# 🔷 Matrice de confusion\n",
        "cm = confusion_matrix(y_test, y_pred)\n",
        "sns.heatmap(cm, annot=True, fmt=\"d\", cmap=\"Blues\", xticklabels=[\"Ham\", \"Spam\"], yticklabels=[\"Ham\", \"Spam\"])\n",
        "plt.xlabel(\"Prédiction\")\n",
        "plt.ylabel(\"Vrai label\")\n",
        "plt.title(\"📊 Matrice de confusion\")\n",
        "plt.show()\n",
        "\n"
      ]
    },
    {
      "cell_type": "code",
      "execution_count": 44,
      "metadata": {},
      "outputs": [
        {
          "name": "stdout",
          "output_type": "stream",
          "text": [
            "35/35 [==============================] - 37s 1s/step\n",
            "🔸 Seuil = 0.0 | Recall = 1.000 | Precision = 0.134 | F1 = 0.236\n",
            "🔸 Seuil = 0.1 | Recall = 0.966 | Precision = 0.883 | F1 = 0.923\n",
            "🔸 Seuil = 0.2 | Recall = 0.946 | Precision = 0.934 | F1 = 0.940\n",
            "🔸 Seuil = 0.3 | Recall = 0.946 | Precision = 0.940 | F1 = 0.943\n",
            "🔸 Seuil = 0.4 | Recall = 0.946 | Precision = 0.946 | F1 = 0.946\n",
            "🔸 Seuil = 0.5 | Recall = 0.940 | Precision = 0.972 | F1 = 0.956\n",
            "🔸 Seuil = 0.6 | Recall = 0.940 | Precision = 0.972 | F1 = 0.956\n",
            "🔸 Seuil = 0.7 | Recall = 0.940 | Precision = 0.972 | F1 = 0.956\n",
            "🔸 Seuil = 0.8 | Recall = 0.933 | Precision = 0.972 | F1 = 0.952\n",
            "🔸 Seuil = 0.9 | Recall = 0.919 | Precision = 0.979 | F1 = 0.948\n",
            "🔸 Seuil = 1.0 | Recall = 0.000 | Precision = 0.000 | F1 = 0.000\n"
          ]
        }
      ],
      "source": [
        "\n",
        "# ⚠️ Prédictions brutes de probas (déjà fait dans ton code plus haut)\n",
        "y_proba = model.predict(X_test.to_numpy(), batch_size=BATCH_SIZE).flatten()\n",
        "\n",
        "# 🔍 Résultats pour chaque seuil\n",
        "thresholds = np.arange(0.0, 1.01, 0.1)\n",
        "results = []\n",
        "\n",
        "for thresh in thresholds:\n",
        "    y_pred = (y_proba >= thresh).astype(int)\n",
        "    recall = recall_score(y_test, y_pred)\n",
        "    precision = precision_score(y_test, y_pred, zero_division=0)\n",
        "    f1 = f1_score(y_test, y_pred)\n",
        "    results.append((thresh, precision, recall, f1))\n",
        "    print(f\"🔸 Seuil = {thresh:.1f} | Recall = {recall:.3f} | Precision = {precision:.3f} | F1 = {f1:.3f}\")\n"
      ]
    },
    {
      "cell_type": "code",
      "execution_count": 45,
      "metadata": {},
      "outputs": [
        {
          "data": {
            "image/png": "[encoded data removed]",
            "text/plain": [
              "<Figure size 1000x500 with 1 Axes>"
            ]
          },
          "metadata": {},
          "output_type": "display_data"
        }
      ],
      "source": [
        "# 📊 Affichage des résultats\n",
        "thresholds_plot, precisions, recalls, f1s = zip(*results)\n",
        "\n",
        "plt.figure(figsize=(10, 5))\n",
        "plt.plot(thresholds_plot, precisions, label=\"Precision\")\n",
        "plt.plot(thresholds_plot, recalls, label=\"Recall\")\n",
        "plt.plot(thresholds_plot, f1s, label=\"F1 Score\")\n",
        "plt.xlabel(\"Seuil de classification\")\n",
        "plt.ylabel(\"Score\")\n",
        "plt.title(\"🎯 Évolution des scores selon le seuil\")\n",
        "plt.xticks(thresholds_plot)\n",
        "plt.grid(True)\n",
        "plt.legend()\n",
        "plt.show()\n"
      ]
    },
    {
      "cell_type": "code",
      "execution_count": 46,
      "metadata": {},
      "outputs": [
        {
          "name": "stdout",
          "output_type": "stream",
          "text": [
            "📄 Rapport de classification :\n",
            "              precision    recall  f1-score   support\n",
            "\n",
            "         Ham       0.99      0.99      0.99       966\n",
            "        Spam       0.91      0.96      0.93       149\n",
            "\n",
            "    accuracy                           0.98      1115\n",
            "   macro avg       0.95      0.97      0.96      1115\n",
            "weighted avg       0.98      0.98      0.98      1115\n",
            "\n"
          ]
        },
        {
          "data": {
            "image/png": "[encoded data removed]",
            "text/plain": [
              "<Figure size 600x400 with 2 Axes>"
            ]
          },
          "metadata": {},
          "output_type": "display_data"
        }
      ],
      "source": [
        "seuil_optimal = 0.15  \n",
        "\n",
        "# 🎯 Prédiction avec nouveau seuil\n",
        "y_pred_thresh = (y_proba >= seuil_optimal).astype(int)\n",
        "\n",
        "# 📊 Rapport de classification\n",
        "print(\"📄 Rapport de classification :\")\n",
        "print(classification_report(y_test, y_pred_thresh, target_names=[\"Ham\", \"Spam\"]))\n",
        "\n",
        "# 🔷 Matrice de confusion\n",
        "cm = confusion_matrix(y_test, y_pred_thresh)\n",
        "\n",
        "plt.figure(figsize=(6, 4))\n",
        "sns.heatmap(cm, annot=True, fmt='d', cmap='Blues', xticklabels=['Ham', 'Spam'], yticklabels=['Ham', 'Spam'])\n",
        "plt.xlabel(\"Prédit\")\n",
        "plt.ylabel(\"Réel\")\n",
        "plt.title(f\"Matrice de confusion (seuil = {seuil_optimal})\")\n",
        "plt.show()\n"
      ]
    }
  ],
  "metadata": {
    "accelerator": "GPU",
    "colab": {
      "collapsed_sections": [],
      "name": "01-Embedding_for_sentiment_analysis_solutions.ipynb",
      "provenance": []
    },
    "kernelspec": {
      "display_name": "llm_env",
      "language": "python",
      "name": "python3"
    },
    "language_info": {
      "codemirror_mode": {
        "name": "ipython",
        "version": 3
      },
      "file_extension": ".py",
      "mimetype": "text/x-python",
      "name": "python",
      "nbconvert_exporter": "python",
      "pygments_lexer": "ipython3",
      "version": "3.10.16"
    }
  },
  "nbformat": 4,
  "nbformat_minor": 0
}
